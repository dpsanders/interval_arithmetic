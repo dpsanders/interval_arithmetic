{
 "metadata": {
  "name": ""
 },
 "nbformat": 3,
 "nbformat_minor": 0,
 "worksheets": [
  {
   "cells": [
    {
     "cell_type": "heading",
     "level": 1,
     "metadata": {},
     "source": [
      "Interval arithmetic"
     ]
    },
    {
     "cell_type": "markdown",
     "metadata": {},
     "source": [
      "# Hola"
     ]
    },
    {
     "cell_type": "markdown",
     "metadata": {},
     "source": [
      "## De nuev"
     ]
    },
    {
     "cell_type": "markdown",
     "metadata": {},
     "source": [
      "## Though"
     ]
    },
    {
     "cell_type": "code",
     "collapsed": false,
     "input": [
      "from intervalo_completo import *"
     ],
     "language": "python",
     "metadata": {},
     "outputs": [],
     "prompt_number": 1
    },
    {
     "cell_type": "code",
     "collapsed": false,
     "input": [
      "i = Intervalo(1, 2)\n",
      "j = Intervalo(2, 3)"
     ],
     "language": "python",
     "metadata": {},
     "outputs": [],
     "prompt_number": 2
    },
    {
     "cell_type": "code",
     "collapsed": false,
     "input": [
      "Intervalo(2.3)"
     ],
     "language": "python",
     "metadata": {},
     "outputs": [
      {
       "html": [
        "[2.3, 2.3]"
       ],
       "latex": [
        "$[2.3, 2.3]$"
       ],
       "metadata": {},
       "output_type": "pyout",
       "prompt_number": 3,
       "text": [
        "Intervalo [mpf('2.2999999999999998'),mpf('2.2999999999999998')]"
       ]
      }
     ],
     "prompt_number": 3
    },
    {
     "cell_type": "code",
     "collapsed": false,
     "input": [
      "i"
     ],
     "language": "python",
     "metadata": {},
     "outputs": [
      {
       "html": [
        "[1.0, 2.0]"
       ],
       "latex": [
        "$[1.0, 2.0]$"
       ],
       "metadata": {},
       "output_type": "pyout",
       "prompt_number": 4,
       "text": [
        "Intervalo [mpf('1.0'),mpf('2.0')]"
       ]
      }
     ],
     "prompt_number": 4
    },
    {
     "cell_type": "code",
     "collapsed": false,
     "input": [
      "j"
     ],
     "language": "python",
     "metadata": {},
     "outputs": [
      {
       "html": [
        "[2.0, 3.0]"
       ],
       "latex": [
        "$[2.0, 3.0]$"
       ],
       "metadata": {},
       "output_type": "pyout",
       "prompt_number": 5,
       "text": [
        "Intervalo [mpf('2.0'),mpf('3.0')]"
       ]
      }
     ],
     "prompt_number": 5
    },
    {
     "cell_type": "code",
     "collapsed": false,
     "input": [
      "i + j"
     ],
     "language": "python",
     "metadata": {},
     "outputs": [
      {
       "html": [
        "[3.0, 5.0]"
       ],
       "latex": [
        "$[3.0, 5.0]$"
       ],
       "metadata": {},
       "output_type": "pyout",
       "prompt_number": 6,
       "text": [
        "Intervalo [mpf('3.0'),mpf('5.0')]"
       ]
      }
     ],
     "prompt_number": 6
    },
    {
     "cell_type": "code",
     "collapsed": false,
     "input": [
      "i - j"
     ],
     "language": "python",
     "metadata": {},
     "outputs": [
      {
       "html": [
        "[-2.0, 0.0]"
       ],
       "latex": [
        "$[-2.0, 0.0]$"
       ],
       "metadata": {},
       "output_type": "pyout",
       "prompt_number": 7,
       "text": [
        "Intervalo [mpf('-2.0'),mpf('0.0')]"
       ]
      }
     ],
     "prompt_number": 7
    },
    {
     "cell_type": "code",
     "collapsed": false,
     "input": [
      "i * j"
     ],
     "language": "python",
     "metadata": {},
     "outputs": [
      {
       "html": [
        "[2.0, 6.0]"
       ],
       "latex": [
        "$[2.0, 6.0]$"
       ],
       "metadata": {},
       "output_type": "pyout",
       "prompt_number": 8,
       "text": [
        "Intervalo [mpf('2.0'),mpf('6.0')]"
       ]
      }
     ],
     "prompt_number": 8
    },
    {
     "cell_type": "code",
     "collapsed": false,
     "input": [
      "a = Intervalo(1, 2)\n",
      "b = Intervalo(3, 4)"
     ],
     "language": "python",
     "metadata": {},
     "outputs": [],
     "prompt_number": 9
    },
    {
     "cell_type": "code",
     "collapsed": false,
     "input": [
      "a * b"
     ],
     "language": "python",
     "metadata": {},
     "outputs": [
      {
       "html": [
        "[3.0, 8.0]"
       ],
       "latex": [
        "$[3.0, 8.0]$"
       ],
       "metadata": {},
       "output_type": "pyout",
       "prompt_number": 10,
       "text": [
        "Intervalo [mpf('3.0'),mpf('8.0')]"
       ]
      }
     ],
     "prompt_number": 10
    },
    {
     "cell_type": "code",
     "collapsed": false,
     "input": [
      "a / b"
     ],
     "language": "python",
     "metadata": {},
     "outputs": [
      {
       "html": [
        "[0.25, 0.666666666666667]"
       ],
       "latex": [
        "$[0.25, 0.666666666666667]$"
       ],
       "metadata": {},
       "output_type": "pyout",
       "prompt_number": 11,
       "text": [
        "Intervalo [mpf('0.25'),mpf('0.66666666666666663')]"
       ]
      }
     ],
     "prompt_number": 11
    },
    {
     "cell_type": "code",
     "collapsed": false,
     "input": [
      "c = Intervalo(-1, 1)\n",
      "#a / c"
     ],
     "language": "python",
     "metadata": {},
     "outputs": [],
     "prompt_number": 12
    },
    {
     "cell_type": "code",
     "collapsed": false,
     "input": [
      "a"
     ],
     "language": "python",
     "metadata": {},
     "outputs": [
      {
       "html": [
        "[1.0, 2.0]"
       ],
       "latex": [
        "$[1.0, 2.0]$"
       ],
       "metadata": {},
       "output_type": "pyout",
       "prompt_number": 13,
       "text": [
        "Intervalo [mpf('1.0'),mpf('2.0')]"
       ]
      }
     ],
     "prompt_number": 13
    },
    {
     "cell_type": "code",
     "collapsed": false,
     "input": [
      "1.5 in a"
     ],
     "language": "python",
     "metadata": {},
     "outputs": [
      {
       "metadata": {},
       "output_type": "pyout",
       "prompt_number": 14,
       "text": [
        "True"
       ]
      }
     ],
     "prompt_number": 14
    },
    {
     "cell_type": "code",
     "collapsed": false,
     "input": [
      "1 in a"
     ],
     "language": "python",
     "metadata": {},
     "outputs": [
      {
       "metadata": {},
       "output_type": "pyout",
       "prompt_number": 15,
       "text": [
        "True"
       ]
      }
     ],
     "prompt_number": 15
    },
    {
     "cell_type": "code",
     "collapsed": false,
     "input": [
      "0.9 in a"
     ],
     "language": "python",
     "metadata": {},
     "outputs": [
      {
       "metadata": {},
       "output_type": "pyout",
       "prompt_number": 16,
       "text": [
        "False"
       ]
      }
     ],
     "prompt_number": 16
    },
    {
     "cell_type": "code",
     "collapsed": false,
     "input": [
      "3 in a"
     ],
     "language": "python",
     "metadata": {},
     "outputs": [
      {
       "metadata": {},
       "output_type": "pyout",
       "prompt_number": 17,
       "text": [
        "False"
       ]
      }
     ],
     "prompt_number": 17
    },
    {
     "cell_type": "code",
     "collapsed": false,
     "input": [
      "2.1 in a"
     ],
     "language": "python",
     "metadata": {},
     "outputs": [
      {
       "metadata": {},
       "output_type": "pyout",
       "prompt_number": 18,
       "text": [
        "False"
       ]
      }
     ],
     "prompt_number": 18
    },
    {
     "cell_type": "code",
     "collapsed": false,
     "input": [
      "Intervalo(3, 4)"
     ],
     "language": "python",
     "metadata": {},
     "outputs": [
      {
       "html": [
        "[3.0, 4.0]"
       ],
       "latex": [
        "$[3.0, 4.0]$"
       ],
       "metadata": {},
       "output_type": "pyout",
       "prompt_number": 19,
       "text": [
        "Intervalo [mpf('3.0'),mpf('4.0')]"
       ]
      }
     ],
     "prompt_number": 19
    },
    {
     "cell_type": "code",
     "collapsed": false,
     "input": [
      "Intervalo(-3.5, 7.2)"
     ],
     "language": "python",
     "metadata": {},
     "outputs": [
      {
       "html": [
        "[-3.5, 7.2]"
       ],
       "latex": [
        "$[-3.5, 7.2]$"
       ],
       "metadata": {},
       "output_type": "pyout",
       "prompt_number": 20,
       "text": [
        "Intervalo [mpf('-3.5'),mpf('7.2000000000000002')]"
       ]
      }
     ],
     "prompt_number": 20
    },
    {
     "cell_type": "code",
     "collapsed": false,
     "input": [
      "from sympy.mpmath import mp, mpf, sqrt"
     ],
     "language": "python",
     "metadata": {},
     "outputs": [],
     "prompt_number": 21
    },
    {
     "cell_type": "code",
     "collapsed": false,
     "input": [
      "Intervalo(mpf(\"-1.\"), sqrt(2))"
     ],
     "language": "python",
     "metadata": {},
     "outputs": [
      {
       "html": [
        "[-1.0, 1.4142135623731]"
       ],
       "latex": [
        "$[-1.0, 1.4142135623731]$"
       ],
       "metadata": {},
       "output_type": "pyout",
       "prompt_number": 22,
       "text": [
        "Intervalo [mpf('-1.0'),mpf('1.4142135623730951')]"
       ]
      }
     ],
     "prompt_number": 22
    },
    {
     "cell_type": "code",
     "collapsed": false,
     "input": [
      "mp.pretty = False"
     ],
     "language": "python",
     "metadata": {},
     "outputs": [],
     "prompt_number": 23
    },
    {
     "cell_type": "code",
     "collapsed": false,
     "input": [
      "Intervalo(mpf(\"0.1\"), sqrt(2))"
     ],
     "language": "python",
     "metadata": {},
     "outputs": [
      {
       "html": [
        "[0.1, 1.4142135623731]"
       ],
       "latex": [
        "$[0.1, 1.4142135623731]$"
       ],
       "metadata": {},
       "output_type": "pyout",
       "prompt_number": 24,
       "text": [
        "Intervalo [mpf('0.10000000000000001'),mpf('1.4142135623730951')]"
       ]
      }
     ],
     "prompt_number": 24
    },
    {
     "cell_type": "code",
     "collapsed": false,
     "input": [
      "Intervalo(4, -3)"
     ],
     "language": "python",
     "metadata": {},
     "outputs": [
      {
       "html": [
        "[-3.0, 4.0]"
       ],
       "latex": [
        "$[-3.0, 4.0]$"
       ],
       "metadata": {},
       "output_type": "pyout",
       "prompt_number": 25,
       "text": [
        "Intervalo [mpf('-3.0'),mpf('4.0')]"
       ]
      }
     ],
     "prompt_number": 25
    },
    {
     "cell_type": "code",
     "collapsed": false,
     "input": [
      "mp.dps = 100\n"
     ],
     "language": "python",
     "metadata": {},
     "outputs": [],
     "prompt_number": 26
    },
    {
     "cell_type": "code",
     "collapsed": false,
     "input": [
      "def f(x):\n",
      "    return x**2"
     ],
     "language": "python",
     "metadata": {},
     "outputs": [],
     "prompt_number": 27
    },
    {
     "cell_type": "code",
     "collapsed": false,
     "input": [
      "f(3)"
     ],
     "language": "python",
     "metadata": {},
     "outputs": [
      {
       "metadata": {},
       "output_type": "pyout",
       "prompt_number": 28,
       "text": [
        "9"
       ]
      }
     ],
     "prompt_number": 28
    },
    {
     "cell_type": "code",
     "collapsed": false,
     "input": [
      "i"
     ],
     "language": "python",
     "metadata": {},
     "outputs": [
      {
       "html": [
        "[1.0, 2.0]"
       ],
       "latex": [
        "$[1.0, 2.0]$"
       ],
       "metadata": {},
       "output_type": "pyout",
       "prompt_number": 29,
       "text": [
        "Intervalo [mpf('1.0'),mpf('2.0')]"
       ]
      }
     ],
     "prompt_number": 29
    },
    {
     "cell_type": "code",
     "collapsed": false,
     "input": [
      "f(i)"
     ],
     "language": "python",
     "metadata": {},
     "outputs": [
      {
       "ename": "NotImplementedError",
       "evalue": "self**exponent is not yet implemented for Intervalo",
       "output_type": "pyerr",
       "traceback": [
        "\u001b[0;31m---------------------------------------------------------------------------\u001b[0m\n\u001b[0;31mNotImplementedError\u001b[0m                       Traceback (most recent call last)",
        "\u001b[0;32m<ipython-input-30-0750690dd0ff>\u001b[0m in \u001b[0;36m<module>\u001b[0;34m()\u001b[0m\n\u001b[0;32m----> 1\u001b[0;31m \u001b[0mf\u001b[0m\u001b[0;34m(\u001b[0m\u001b[0mi\u001b[0m\u001b[0;34m)\u001b[0m\u001b[0;34m\u001b[0m\u001b[0m\n\u001b[0m",
        "\u001b[0;32m<ipython-input-27-1ff23877539d>\u001b[0m in \u001b[0;36mf\u001b[0;34m(x)\u001b[0m\n\u001b[1;32m      1\u001b[0m \u001b[0;32mdef\u001b[0m \u001b[0mf\u001b[0m\u001b[0;34m(\u001b[0m\u001b[0mx\u001b[0m\u001b[0;34m)\u001b[0m\u001b[0;34m:\u001b[0m\u001b[0;34m\u001b[0m\u001b[0m\n\u001b[0;32m----> 2\u001b[0;31m     \u001b[0;32mreturn\u001b[0m \u001b[0mx\u001b[0m\u001b[0;34m**\u001b[0m\u001b[0;36m2\u001b[0m\u001b[0;34m\u001b[0m\u001b[0m\n\u001b[0m",
        "\u001b[0;32m/Users/dsanders/Dropbox/docencia/validated_numerics/interval_arithmetic/intervalo_completo.py\u001b[0m in \u001b[0;36m__pow__\u001b[0;34m(self, exponent)\u001b[0m\n\u001b[1;32m    179\u001b[0m         \u001b[0mNOT\u001b[0m \u001b[0mYET\u001b[0m \u001b[0mIMPLEMENTED\u001b[0m\u001b[0;34m\u001b[0m\u001b[0m\n\u001b[1;32m    180\u001b[0m         \"\"\"\n\u001b[0;32m--> 181\u001b[0;31m         \u001b[0;32mraise\u001b[0m \u001b[0mNotImplementedError\u001b[0m\u001b[0;34m(\u001b[0m\u001b[0;34m'self**exponent is not yet implemented for Intervalo'\u001b[0m\u001b[0;34m)\u001b[0m\u001b[0;34m\u001b[0m\u001b[0m\n\u001b[0m\u001b[1;32m    182\u001b[0m \u001b[0;34m\u001b[0m\u001b[0m\n\u001b[1;32m    183\u001b[0m     \u001b[0;32mdef\u001b[0m \u001b[0msin\u001b[0m\u001b[0;34m(\u001b[0m\u001b[0mself\u001b[0m\u001b[0;34m)\u001b[0m\u001b[0;34m:\u001b[0m\u001b[0;34m\u001b[0m\u001b[0m\n",
        "\u001b[0;31mNotImplementedError\u001b[0m: self**exponent is not yet implemented for Intervalo"
       ]
      }
     ],
     "prompt_number": 30
    },
    {
     "cell_type": "code",
     "collapsed": false,
     "input": [
      "a"
     ],
     "language": "python",
     "metadata": {},
     "outputs": []
    },
    {
     "cell_type": "code",
     "collapsed": false,
     "input": [
      "-i"
     ],
     "language": "python",
     "metadata": {},
     "outputs": [
      {
       "html": [
        "[-2.0, -1.0]"
       ],
       "latex": [
        "$[-2.0, -1.0]$"
       ],
       "metadata": {},
       "output_type": "pyout",
       "prompt_number": 31,
       "text": [
        "Intervalo [mpf('-2.0'),mpf('-1.0')]"
       ]
      }
     ],
     "prompt_number": 31
    },
    {
     "cell_type": "code",
     "collapsed": false,
     "input": [
      "str(2.3)"
     ],
     "language": "python",
     "metadata": {},
     "outputs": [
      {
       "metadata": {},
       "output_type": "pyout",
       "prompt_number": 32,
       "text": [
        "'2.3'"
       ]
      }
     ],
     "prompt_number": 32
    },
    {
     "cell_type": "code",
     "collapsed": false,
     "input": [
      "mpf(str(2.3))"
     ],
     "language": "python",
     "metadata": {},
     "outputs": [
      {
       "metadata": {},
       "output_type": "pyout",
       "prompt_number": 33,
       "text": [
        "mpf('2.299999999999999999999999999999999999999999999999999999999999999999999999999999999999999999999999999994')"
       ]
      }
     ],
     "prompt_number": 33
    },
    {
     "cell_type": "code",
     "collapsed": false,
     "input": [
      "Intervalo(\"2.3\")"
     ],
     "language": "python",
     "metadata": {},
     "outputs": [
      {
       "html": [
        "[2.3, 2.3]"
       ],
       "latex": [
        "$[2.3, 2.3]$"
       ],
       "metadata": {},
       "output_type": "pyout",
       "prompt_number": 34,
       "text": [
        "Intervalo [mpf('2.299999999999999999999999999999999999999999999999999999999999999999999999999999999999999999999999999994'),mpf('2.299999999999999999999999999999999999999999999999999999999999999999999999999999999999999999999999999994')]"
       ]
      }
     ],
     "prompt_number": 34
    },
    {
     "cell_type": "code",
     "collapsed": false,
     "input": [
      "i + 2.3"
     ],
     "language": "python",
     "metadata": {},
     "outputs": [
      {
       "html": [
        "[3.3, 4.3]"
       ],
       "latex": [
        "$[3.3, 4.3]$"
       ],
       "metadata": {},
       "output_type": "pyout",
       "prompt_number": 35,
       "text": [
        "Intervalo [mpf('3.299999999999999999999999999999999999999999999999999999999999999999999999999999999999999999999999999994'),mpf('4.300000000000000000000000000000000000000000000000000000000000000000000000000000000000000000000000000023')]"
       ]
      }
     ],
     "prompt_number": 35
    },
    {
     "cell_type": "code",
     "collapsed": false,
     "input": [
      "i"
     ],
     "language": "python",
     "metadata": {},
     "outputs": [
      {
       "html": [
        "[1.0, 2.0]"
       ],
       "latex": [
        "$[1.0, 2.0]$"
       ],
       "metadata": {},
       "output_type": "pyout",
       "prompt_number": 36,
       "text": [
        "Intervalo [mpf('1.0'),mpf('2.0')]"
       ]
      }
     ],
     "prompt_number": 36
    },
    {
     "cell_type": "code",
     "collapsed": false,
     "input": [
      "i"
     ],
     "language": "python",
     "metadata": {},
     "outputs": [
      {
       "html": [
        "[1.0, 2.0]"
       ],
       "latex": [
        "$[1.0, 2.0]$"
       ],
       "metadata": {},
       "output_type": "pyout",
       "prompt_number": 37,
       "text": [
        "Intervalo [mpf('1.0'),mpf('2.0')]"
       ]
      }
     ],
     "prompt_number": 37
    },
    {
     "cell_type": "code",
     "collapsed": false,
     "input": [
      "i + 2.3"
     ],
     "language": "python",
     "metadata": {},
     "outputs": [
      {
       "html": [
        "[3.3, 4.3]"
       ],
       "latex": [
        "$[3.3, 4.3]$"
       ],
       "metadata": {},
       "output_type": "pyout",
       "prompt_number": 38,
       "text": [
        "Intervalo [mpf('3.299999999999999999999999999999999999999999999999999999999999999999999999999999999999999999999999999994'),mpf('4.300000000000000000000000000000000000000000000000000000000000000000000000000000000000000000000000000023')]"
       ]
      }
     ],
     "prompt_number": 38
    },
    {
     "cell_type": "code",
     "collapsed": false,
     "input": [
      "i + 2.3"
     ],
     "language": "python",
     "metadata": {},
     "outputs": [
      {
       "html": [
        "[3.3, 4.3]"
       ],
       "latex": [
        "$[3.3, 4.3]$"
       ],
       "metadata": {},
       "output_type": "pyout",
       "prompt_number": 39,
       "text": [
        "Intervalo [mpf('3.299999999999999999999999999999999999999999999999999999999999999999999999999999999999999999999999999994'),mpf('4.300000000000000000000000000000000000000000000000000000000000000000000000000000000000000000000000000023')]"
       ]
      }
     ],
     "prompt_number": 39
    },
    {
     "cell_type": "code",
     "collapsed": false,
     "input": [
      "Intervalo(\"2.3\")"
     ],
     "language": "python",
     "metadata": {},
     "outputs": [
      {
       "html": [
        "[2.3, 2.3]"
       ],
       "latex": [
        "$[2.3, 2.3]$"
       ],
       "metadata": {},
       "output_type": "pyout",
       "prompt_number": 40,
       "text": [
        "Intervalo [mpf('2.299999999999999999999999999999999999999999999999999999999999999999999999999999999999999999999999999994'),mpf('2.299999999999999999999999999999999999999999999999999999999999999999999999999999999999999999999999999994')]"
       ]
      }
     ],
     "prompt_number": 40
    },
    {
     "cell_type": "code",
     "collapsed": false,
     "input": [
      "2.3 + i"
     ],
     "language": "python",
     "metadata": {},
     "outputs": [
      {
       "html": [
        "[3.3, 4.3]"
       ],
       "latex": [
        "$[3.3, 4.3]$"
       ],
       "metadata": {},
       "output_type": "pyout",
       "prompt_number": 41,
       "text": [
        "Intervalo [mpf('3.299999999999999999999999999999999999999999999999999999999999999999999999999999999999999999999999999994'),mpf('4.300000000000000000000000000000000000000000000000000000000000000000000000000000000000000000000000000023')]"
       ]
      }
     ],
     "prompt_number": 41
    },
    {
     "cell_type": "code",
     "collapsed": false,
     "input": [
      "a"
     ],
     "language": "python",
     "metadata": {},
     "outputs": [
      {
       "html": [
        "[1.0, 2.0]"
       ],
       "latex": [
        "$[1.0, 2.0]$"
       ],
       "metadata": {},
       "output_type": "pyout",
       "prompt_number": 42,
       "text": [
        "Intervalo [mpf('1.0'),mpf('2.0')]"
       ]
      }
     ],
     "prompt_number": 42
    },
    {
     "cell_type": "code",
     "collapsed": false,
     "input": [
      "a = Intervalo(2, 3)"
     ],
     "language": "python",
     "metadata": {},
     "outputs": [],
     "prompt_number": 43
    },
    {
     "cell_type": "code",
     "collapsed": false,
     "input": [
      "a"
     ],
     "language": "python",
     "metadata": {},
     "outputs": [
      {
       "html": [
        "[2.0, 3.0]"
       ],
       "latex": [
        "$[2.0, 3.0]$"
       ],
       "metadata": {},
       "output_type": "pyout",
       "prompt_number": 44,
       "text": [
        "Intervalo [mpf('2.0'),mpf('3.0')]"
       ]
      }
     ],
     "prompt_number": 44
    },
    {
     "cell_type": "code",
     "collapsed": false,
     "input": [
      "a"
     ],
     "language": "python",
     "metadata": {},
     "outputs": [
      {
       "html": [
        "[2.0, 3.0]"
       ],
       "latex": [
        "$[2.0, 3.0]$"
       ],
       "metadata": {},
       "output_type": "pyout",
       "prompt_number": 45,
       "text": [
        "Intervalo [mpf('2.0'),mpf('3.0')]"
       ]
      }
     ],
     "prompt_number": 45
    },
    {
     "cell_type": "code",
     "collapsed": false,
     "input": [
      "a"
     ],
     "language": "python",
     "metadata": {},
     "outputs": [
      {
       "html": [
        "[2.0, 3.0]"
       ],
       "latex": [
        "$[2.0, 3.0]$"
       ],
       "metadata": {},
       "output_type": "pyout",
       "prompt_number": 46,
       "text": [
        "Intervalo [mpf('2.0'),mpf('3.0')]"
       ]
      }
     ],
     "prompt_number": 46
    },
    {
     "cell_type": "code",
     "collapsed": false,
     "input": [
      "b"
     ],
     "language": "python",
     "metadata": {},
     "outputs": [
      {
       "html": [
        "[3.0, 4.0]"
       ],
       "latex": [
        "$[3.0, 4.0]$"
       ],
       "metadata": {},
       "output_type": "pyout",
       "prompt_number": 47,
       "text": [
        "Intervalo [mpf('3.0'),mpf('4.0')]"
       ]
      }
     ],
     "prompt_number": 47
    },
    {
     "cell_type": "code",
     "collapsed": false,
     "input": [
      "a + b"
     ],
     "language": "python",
     "metadata": {},
     "outputs": [
      {
       "html": [
        "[5.0, 7.0]"
       ],
       "latex": [
        "$[5.0, 7.0]$"
       ],
       "metadata": {},
       "output_type": "pyout",
       "prompt_number": 48,
       "text": [
        "Intervalo [mpf('5.0'),mpf('7.0')]"
       ]
      }
     ],
     "prompt_number": 48
    },
    {
     "cell_type": "code",
     "collapsed": false,
     "input": [
      "a"
     ],
     "language": "python",
     "metadata": {},
     "outputs": [
      {
       "html": [
        "[2.0, 3.0]"
       ],
       "latex": [
        "$[2.0, 3.0]$"
       ],
       "metadata": {},
       "output_type": "pyout",
       "prompt_number": 49,
       "text": [
        "Intervalo [mpf('2.0'),mpf('3.0')]"
       ]
      }
     ],
     "prompt_number": 49
    },
    {
     "cell_type": "code",
     "collapsed": false,
     "input": [
      "b"
     ],
     "language": "python",
     "metadata": {},
     "outputs": [
      {
       "html": [
        "[3.0, 4.0]"
       ],
       "latex": [
        "$[3.0, 4.0]$"
       ],
       "metadata": {},
       "output_type": "pyout",
       "prompt_number": 50,
       "text": [
        "Intervalo [mpf('3.0'),mpf('4.0')]"
       ]
      }
     ],
     "prompt_number": 50
    },
    {
     "cell_type": "code",
     "collapsed": false,
     "input": [],
     "language": "python",
     "metadata": {},
     "outputs": [],
     "prompt_number": 50
    },
    {
     "cell_type": "code",
     "collapsed": false,
     "input": [
      "a+b"
     ],
     "language": "python",
     "metadata": {},
     "outputs": [
      {
       "html": [
        "[5.0, 7.0]"
       ],
       "latex": [
        "$[5.0, 7.0]$"
       ],
       "metadata": {},
       "output_type": "pyout",
       "prompt_number": 51,
       "text": [
        "Intervalo [mpf('5.0'),mpf('7.0')]"
       ]
      }
     ],
     "prompt_number": 51
    },
    {
     "cell_type": "code",
     "collapsed": false,
     "input": [
      "1 - b"
     ],
     "language": "python",
     "metadata": {},
     "outputs": [
      {
       "html": [
        "[-3.0, -2.0]"
       ],
       "latex": [
        "$[-3.0, -2.0]$"
       ],
       "metadata": {},
       "output_type": "pyout",
       "prompt_number": 52,
       "text": [
        "Intervalo [mpf('-3.0'),mpf('-2.0')]"
       ]
      }
     ],
     "prompt_number": 52
    },
    {
     "cell_type": "code",
     "collapsed": false,
     "input": [
      "1-b"
     ],
     "language": "python",
     "metadata": {},
     "outputs": [
      {
       "html": [
        "[-3.0, -2.0]"
       ],
       "latex": [
        "$[-3.0, -2.0]$"
       ],
       "metadata": {},
       "output_type": "pyout",
       "prompt_number": 53,
       "text": [
        "Intervalo [mpf('-3.0'),mpf('-2.0')]"
       ]
      }
     ],
     "prompt_number": 53
    },
    {
     "cell_type": "code",
     "collapsed": false,
     "input": [
      "1 + b"
     ],
     "language": "python",
     "metadata": {},
     "outputs": [
      {
       "html": [
        "[4.0, 5.0]"
       ],
       "latex": [
        "$[4.0, 5.0]$"
       ],
       "metadata": {},
       "output_type": "pyout",
       "prompt_number": 54,
       "text": [
        "Intervalo [mpf('4.0'),mpf('5.0')]"
       ]
      }
     ],
     "prompt_number": 54
    },
    {
     "cell_type": "code",
     "collapsed": false,
     "input": [
      "b, b - 1"
     ],
     "language": "python",
     "metadata": {},
     "outputs": [
      {
       "metadata": {},
       "output_type": "pyout",
       "prompt_number": 55,
       "text": [
        "(Intervalo [mpf('3.0'),mpf('4.0')], Intervalo [mpf('2.0'),mpf('3.0')])"
       ]
      }
     ],
     "prompt_number": 55
    },
    {
     "cell_type": "code",
     "collapsed": false,
     "input": [
      "b-1"
     ],
     "language": "python",
     "metadata": {},
     "outputs": [
      {
       "html": [
        "[2.0, 3.0]"
       ],
       "latex": [
        "$[2.0, 3.0]$"
       ],
       "metadata": {},
       "output_type": "pyout",
       "prompt_number": 56,
       "text": [
        "Intervalo [mpf('2.0'),mpf('3.0')]"
       ]
      }
     ],
     "prompt_number": 56
    },
    {
     "cell_type": "code",
     "collapsed": false,
     "input": [
      "d = Intervalo(3, \"inf\")"
     ],
     "language": "python",
     "metadata": {},
     "outputs": [],
     "prompt_number": 57
    },
    {
     "cell_type": "code",
     "collapsed": false,
     "input": [
      "d.exp()"
     ],
     "language": "python",
     "metadata": {},
     "outputs": [
      {
       "html": [
        "[20.0855369231876677409285296545817178969879078385541501443789342296988458780919737312044971602530177, +&infin;]"
       ],
       "latex": [
        "$[20.0855369231876677409285296545817178969879078385541501443789342296988458780919737312044971602530177, +inf]$"
       ],
       "metadata": {},
       "output_type": "pyout",
       "prompt_number": 58,
       "text": [
        "Intervalo [mpf('20.08553692318766774092852965458171789698790783855415014437893422969884587809197373120449716025301770223'),mpf('+inf')]"
       ]
      }
     ],
     "prompt_number": 58
    },
    {
     "cell_type": "code",
     "collapsed": false,
     "input": [
      "mp.exp(\"inf\")"
     ],
     "language": "python",
     "metadata": {},
     "outputs": [
      {
       "metadata": {},
       "output_type": "pyout",
       "prompt_number": 59,
       "text": [
        "mpf('+inf')"
       ]
      }
     ],
     "prompt_number": 59
    },
    {
     "cell_type": "code",
     "collapsed": false,
     "input": [
      "i"
     ],
     "language": "python",
     "metadata": {},
     "outputs": [
      {
       "html": [
        "[1.0, 2.0]"
       ],
       "latex": [
        "$[1.0, 2.0]$"
       ],
       "metadata": {},
       "output_type": "pyout",
       "prompt_number": 60,
       "text": [
        "Intervalo [mpf('1.0'),mpf('2.0')]"
       ]
      }
     ],
     "prompt_number": 60
    },
    {
     "cell_type": "code",
     "collapsed": false,
     "input": [
      "3 * i"
     ],
     "language": "python",
     "metadata": {},
     "outputs": [
      {
       "html": [
        "[3.0, 6.0]"
       ],
       "latex": [
        "$[3.0, 6.0]$"
       ],
       "metadata": {},
       "output_type": "pyout",
       "prompt_number": 61,
       "text": [
        "Intervalo [mpf('3.0'),mpf('6.0')]"
       ]
      }
     ],
     "prompt_number": 61
    },
    {
     "cell_type": "code",
     "collapsed": false,
     "input": [
      "i * 3"
     ],
     "language": "python",
     "metadata": {},
     "outputs": [
      {
       "html": [
        "[3.0, 6.0]"
       ],
       "latex": [
        "$[3.0, 6.0]$"
       ],
       "metadata": {},
       "output_type": "pyout",
       "prompt_number": 62,
       "text": [
        "Intervalo [mpf('3.0'),mpf('6.0')]"
       ]
      }
     ],
     "prompt_number": 62
    },
    {
     "cell_type": "code",
     "collapsed": false,
     "input": [
      "i / 3"
     ],
     "language": "python",
     "metadata": {},
     "outputs": [
      {
       "html": [
        "[0.3333333333333333333333333333333333333333333333333333333333333333333333333333333333333333333333333333, 0.6666666666666666666666666666666666666666666666666666666666666666666666666666666666666666666666666667]"
       ],
       "latex": [
        "$[0.3333333333333333333333333333333333333333333333333333333333333333333333333333333333333333333333333333, 0.6666666666666666666666666666666666666666666666666666666666666666666666666666666666666666666666666667]$"
       ],
       "metadata": {},
       "output_type": "pyout",
       "prompt_number": 63,
       "text": [
        "Intervalo [mpf('0.3333333333333333333333333333333333333333333333333333333333333333333333333333333333333333333333333333345'),mpf('0.666666666666666666666666666666666666666666666666666666666666666666666666666666666666666666666666666669')]"
       ]
      }
     ],
     "prompt_number": 63
    },
    {
     "cell_type": "code",
     "collapsed": false,
     "input": [
      "i / Intervalo(3., 3.)"
     ],
     "language": "python",
     "metadata": {},
     "outputs": [
      {
       "html": [
        "[0.3333333333333333333333333333333333333333333333333333333333333333333333333333333333333333333333333333, 0.6666666666666666666666666666666666666666666666666666666666666666666666666666666666666666666666666667]"
       ],
       "latex": [
        "$[0.3333333333333333333333333333333333333333333333333333333333333333333333333333333333333333333333333333, 0.6666666666666666666666666666666666666666666666666666666666666666666666666666666666666666666666666667]$"
       ],
       "metadata": {},
       "output_type": "pyout",
       "prompt_number": 64,
       "text": [
        "Intervalo [mpf('0.3333333333333333333333333333333333333333333333333333333333333333333333333333333333333333333333333333345'),mpf('0.666666666666666666666666666666666666666666666666666666666666666666666666666666666666666666666666666669')]"
       ]
      }
     ],
     "prompt_number": 64
    },
    {
     "cell_type": "code",
     "collapsed": false,
     "input": [
      "j = Intervalo(3.)\n",
      "j"
     ],
     "language": "python",
     "metadata": {},
     "outputs": [
      {
       "html": [
        "[3.0, 3.0]"
       ],
       "latex": [
        "$[3.0, 3.0]$"
       ],
       "metadata": {},
       "output_type": "pyout",
       "prompt_number": 65,
       "text": [
        "Intervalo [mpf('3.0'),mpf('3.0')]"
       ]
      }
     ],
     "prompt_number": 65
    },
    {
     "cell_type": "code",
     "collapsed": false,
     "input": [
      "j.reciprocal()"
     ],
     "language": "python",
     "metadata": {},
     "outputs": [
      {
       "html": [
        "[0.3333333333333333333333333333333333333333333333333333333333333333333333333333333333333333333333333333, 0.3333333333333333333333333333333333333333333333333333333333333333333333333333333333333333333333333333]"
       ],
       "latex": [
        "$[0.3333333333333333333333333333333333333333333333333333333333333333333333333333333333333333333333333333, 0.3333333333333333333333333333333333333333333333333333333333333333333333333333333333333333333333333333]$"
       ],
       "metadata": {},
       "output_type": "pyout",
       "prompt_number": 66,
       "text": [
        "Intervalo [mpf('0.3333333333333333333333333333333333333333333333333333333333333333333333333333333333333333333333333333345'),mpf('0.3333333333333333333333333333333333333333333333333333333333333333333333333333333333333333333333333333345')]"
       ]
      }
     ],
     "prompt_number": 66
    },
    {
     "cell_type": "code",
     "collapsed": false,
     "input": [
      "a"
     ],
     "language": "python",
     "metadata": {},
     "outputs": [
      {
       "html": [
        "[2.0, 3.0]"
       ],
       "latex": [
        "$[2.0, 3.0]$"
       ],
       "metadata": {},
       "output_type": "pyout",
       "prompt_number": 67,
       "text": [
        "Intervalo [mpf('2.0'),mpf('3.0')]"
       ]
      }
     ],
     "prompt_number": 67
    },
    {
     "cell_type": "code",
     "collapsed": false,
     "input": [
      "b"
     ],
     "language": "python",
     "metadata": {},
     "outputs": [
      {
       "html": [
        "[3.0, 4.0]"
       ],
       "latex": [
        "$[3.0, 4.0]$"
       ],
       "metadata": {},
       "output_type": "pyout",
       "prompt_number": 68,
       "text": [
        "Intervalo [mpf('3.0'),mpf('4.0')]"
       ]
      }
     ],
     "prompt_number": 68
    },
    {
     "cell_type": "code",
     "collapsed": false,
     "input": [
      "a * b"
     ],
     "language": "python",
     "metadata": {},
     "outputs": [
      {
       "html": [
        "[6.0, 12.0]"
       ],
       "latex": [
        "$[6.0, 12.0]$"
       ],
       "metadata": {},
       "output_type": "pyout",
       "prompt_number": 69,
       "text": [
        "Intervalo [mpf('6.0'),mpf('12.0')]"
       ]
      }
     ],
     "prompt_number": 69
    },
    {
     "cell_type": "code",
     "collapsed": false,
     "input": [
      "a / b"
     ],
     "language": "python",
     "metadata": {},
     "outputs": [
      {
       "html": [
        "[0.5, 1.0]"
       ],
       "latex": [
        "$[0.5, 1.0]$"
       ],
       "metadata": {},
       "output_type": "pyout",
       "prompt_number": 70,
       "text": [
        "Intervalo [mpf('0.5'),mpf('1.0')]"
       ]
      }
     ],
     "prompt_number": 70
    },
    {
     "cell_type": "code",
     "collapsed": false,
     "input": [
      "a / 3"
     ],
     "language": "python",
     "metadata": {},
     "outputs": [
      {
       "html": [
        "[0.6666666666666666666666666666666666666666666666666666666666666666666666666666666666666666666666666667, 1.0]"
       ],
       "latex": [
        "$[0.6666666666666666666666666666666666666666666666666666666666666666666666666666666666666666666666666667, 1.0]$"
       ],
       "metadata": {},
       "output_type": "pyout",
       "prompt_number": 71,
       "text": [
        "Intervalo [mpf('0.666666666666666666666666666666666666666666666666666666666666666666666666666666666666666666666666666669'),mpf('1.0')]"
       ]
      }
     ],
     "prompt_number": 71
    },
    {
     "cell_type": "code",
     "collapsed": false,
     "input": [
      "mp.dps = 15"
     ],
     "language": "python",
     "metadata": {},
     "outputs": [],
     "prompt_number": 72
    },
    {
     "cell_type": "code",
     "collapsed": false,
     "input": [
      "a / 3"
     ],
     "language": "python",
     "metadata": {},
     "outputs": [
      {
       "html": [
        "[0.666666666666667, 1.0]"
       ],
       "latex": [
        "$[0.666666666666667, 1.0]$"
       ],
       "metadata": {},
       "output_type": "pyout",
       "prompt_number": 73,
       "text": [
        "Intervalo [mpf('0.66666666666666663'),mpf('1.0')]"
       ]
      }
     ],
     "prompt_number": 73
    },
    {
     "cell_type": "code",
     "collapsed": false,
     "input": [
      "a"
     ],
     "language": "python",
     "metadata": {},
     "outputs": [
      {
       "html": [
        "[2.0, 3.0]"
       ],
       "latex": [
        "$[2.0, 3.0]$"
       ],
       "metadata": {},
       "output_type": "pyout",
       "prompt_number": 74,
       "text": [
        "Intervalo [mpf('2.0'),mpf('3.0')]"
       ]
      }
     ],
     "prompt_number": 74
    },
    {
     "cell_type": "code",
     "collapsed": false,
     "input": [
      "a / 2"
     ],
     "language": "python",
     "metadata": {},
     "outputs": [
      {
       "html": [
        "[1.0, 1.5]"
       ],
       "latex": [
        "$[1.0, 1.5]$"
       ],
       "metadata": {},
       "output_type": "pyout",
       "prompt_number": 75,
       "text": [
        "Intervalo [mpf('1.0'),mpf('1.5')]"
       ]
      }
     ],
     "prompt_number": 75
    },
    {
     "cell_type": "code",
     "collapsed": false,
     "input": [
      "2 / a"
     ],
     "language": "python",
     "metadata": {},
     "outputs": [
      {
       "html": [
        "[0.666666666666667, 1.0]"
       ],
       "latex": [
        "$[0.666666666666667, 1.0]$"
       ],
       "metadata": {},
       "output_type": "pyout",
       "prompt_number": 76,
       "text": [
        "Intervalo [mpf('0.66666666666666663'),mpf('1.0')]"
       ]
      }
     ],
     "prompt_number": 76
    },
    {
     "cell_type": "code",
     "collapsed": false,
     "input": [],
     "language": "python",
     "metadata": {},
     "outputs": [],
     "prompt_number": 76
    }
   ],
   "metadata": {}
  }
 ]
}