{
 "metadata": {
  "name": ""
 },
 "nbformat": 3,
 "nbformat_minor": 0,
 "worksheets": [
  {
   "cells": [
    {
     "cell_type": "code",
     "collapsed": false,
     "input": [
      "from intervalo import *\n",
      "import numpy as np"
     ],
     "language": "python",
     "metadata": {},
     "outputs": [],
     "prompt_number": 1
    },
    {
     "cell_type": "code",
     "collapsed": false,
     "input": [
      "x = Intervalo(-1, 1)"
     ],
     "language": "python",
     "metadata": {},
     "outputs": [],
     "prompt_number": 2
    },
    {
     "cell_type": "markdown",
     "metadata": {},
     "source": [
      "Queremos calcular el rango de la funci\u00f3n $f(x) = x(1-x)$. Al utilizar intervalos de una forma ingenua, el rango que sale depende de c\u00f3mo implementemos la funci\u00f3n:"
     ]
    },
    {
     "cell_type": "code",
     "collapsed": false,
     "input": [
      "x * (x-1)"
     ],
     "language": "python",
     "metadata": {},
     "outputs": [
      {
       "html": [
        "[-2.0, 2.0]"
       ],
       "latex": [
        "$[-2.0, 2.0]$"
       ],
       "metadata": {},
       "output_type": "pyout",
       "prompt_number": 3,
       "text": [
        "Intervalo [mpf('-2.0'),mpf('2.0')]"
       ]
      }
     ],
     "prompt_number": 3
    },
    {
     "cell_type": "code",
     "collapsed": false,
     "input": [
      "x**2 - x"
     ],
     "language": "python",
     "metadata": {},
     "outputs": [
      {
       "html": [
        "[-1.0, 2.0]"
       ],
       "latex": [
        "$[-1.0, 2.0]$"
       ],
       "metadata": {},
       "output_type": "pyout",
       "prompt_number": 4,
       "text": [
        "Intervalo [mpf('-1.0'),mpf('2.0')]"
       ]
      }
     ],
     "prompt_number": 4
    },
    {
     "cell_type": "code",
     "collapsed": false,
     "input": [
      "(x - 0.5)**2 - 0.25"
     ],
     "language": "python",
     "metadata": {},
     "outputs": [
      {
       "html": [
        "[-0.25, 2.0]"
       ],
       "latex": [
        "$[-0.25, 2.0]$"
       ],
       "metadata": {},
       "output_type": "pyout",
       "prompt_number": 5,
       "text": [
        "Intervalo [mpf('-0.25'),mpf('2.0')]"
       ]
      }
     ],
     "prompt_number": 5
    },
    {
     "cell_type": "markdown",
     "metadata": {},
     "source": [
      "Dibujemos la gr\u00e1fica de la funci\u00f3n:"
     ]
    },
    {
     "cell_type": "code",
     "collapsed": false,
     "input": [
      "from sympy import plot, symbols\n",
      "%matplotlib inline\n",
      "#%load_ext retina"
     ],
     "language": "python",
     "metadata": {},
     "outputs": [],
     "prompt_number": 7
    },
    {
     "cell_type": "code",
     "collapsed": false,
     "input": [
      "xx = symbols(\"x\")"
     ],
     "language": "python",
     "metadata": {},
     "outputs": [],
     "prompt_number": 8
    },
    {
     "cell_type": "code",
     "collapsed": false,
     "input": [
      "plot(xx*(xx-1), (xx, -1, 1))"
     ],
     "language": "python",
     "metadata": {},
     "outputs": [
      {
       "metadata": {},
       "output_type": "display_data",
       "png": "[encoded data removed]",
       "text": [
        "<matplotlib.figure.Figure at 0x110e06e50>"
       ]
      },
      {
       "metadata": {},
       "output_type": "pyout",
       "prompt_number": 9,
       "text": [
        "<sympy.plotting.plot.Plot at 0x1104821d0>"
       ]
      }
     ],
     "prompt_number": 9
    },
    {
     "cell_type": "markdown",
     "metadata": {},
     "source": [
      "Vemos que el rango correcto es efectivamente $[-0.25, 2]$"
     ]
    },
    {
     "cell_type": "heading",
     "level": 2,
     "metadata": {},
     "source": [
      "Subdivision of intervals"
     ]
    },
    {
     "cell_type": "markdown",
     "metadata": {},
     "source": [
      "Let's subdivide the interval into pieces and calculate the range on each piece:"
     ]
    },
    {
     "cell_type": "code",
     "collapsed": false,
     "input": [
      "N = 100"
     ],
     "language": "python",
     "metadata": {},
     "outputs": [],
     "prompt_number": 10
    },
    {
     "cell_type": "code",
     "collapsed": false,
     "input": [
      "division_points = np.linspace(x.lo, x.hi, N+1)\n",
      "division_points"
     ],
     "language": "python",
     "metadata": {},
     "outputs": [
      {
       "metadata": {},
       "output_type": "pyout",
       "prompt_number": 11,
       "text": [
        "array([mpf('-1.0'), mpf('-0.97999999999999998'),\n",
        "       mpf('-0.95999999999999996'), mpf('-0.93999999999999995'),\n",
        "       mpf('-0.92000000000000004'), mpf('-0.90000000000000002'),\n",
        "       mpf('-0.88'), mpf('-0.85999999999999999'),\n",
        "       mpf('-0.83999999999999997'), mpf('-0.82000000000000006'),\n",
        "       mpf('-0.80000000000000004'), mpf('-0.78000000000000003'),\n",
        "       mpf('-0.76000000000000001'), mpf('-0.73999999999999999'),\n",
        "       mpf('-0.71999999999999997'), mpf('-0.69999999999999996'),\n",
        "       mpf('-0.67999999999999994'), mpf('-0.65999999999999992'),\n",
        "       mpf('-0.64000000000000001'), mpf('-0.62'),\n",
        "       mpf('-0.59999999999999998'), mpf('-0.58000000000000007'),\n",
        "       mpf('-0.56000000000000005'), mpf('-0.54000000000000004'),\n",
        "       mpf('-0.52000000000000002'), mpf('-0.5'),\n",
        "       mpf('-0.47999999999999998'), mpf('-0.45999999999999996'),\n",
        "       mpf('-0.43999999999999995'), mpf('-0.42000000000000004'),\n",
        "       mpf('-0.40000000000000002'), mpf('-0.38'),\n",
        "       mpf('-0.35999999999999999'), mpf('-0.33999999999999997'),\n",
        "       mpf('-0.31999999999999995'), mpf('-0.29999999999999993'),\n",
        "       mpf('-0.28000000000000003'), mpf('-0.26000000000000001'),\n",
        "       mpf('-0.23999999999999999'), mpf('-0.21999999999999997'),\n",
        "       mpf('-0.19999999999999996'), mpf('-0.17999999999999994'),\n",
        "       mpf('-0.16000000000000003'), mpf('-0.14000000000000001'),\n",
        "       mpf('-0.12'), mpf('-0.099999999999999978'),\n",
        "       mpf('-0.07999999999999996'), mpf('-0.059999999999999942'),\n",
        "       mpf('-0.040000000000000036'), mpf('-0.020000000000000018'),\n",
        "       mpf('0.0'), mpf('0.020000000000000018'),\n",
        "       mpf('0.040000000000000036'), mpf('0.060000000000000053'),\n",
        "       mpf('0.080000000000000071'), mpf('0.10000000000000009'),\n",
        "       mpf('0.12000000000000011'), mpf('0.14000000000000012'),\n",
        "       mpf('0.15999999999999992'), mpf('0.17999999999999994'),\n",
        "       mpf('0.19999999999999996'), mpf('0.21999999999999997'),\n",
        "       mpf('0.23999999999999999'), mpf('0.26000000000000001'),\n",
        "       mpf('0.28000000000000003'), mpf('0.30000000000000004'),\n",
        "       mpf('0.32000000000000006'), mpf('0.34000000000000008'),\n",
        "       mpf('0.3600000000000001'), mpf('0.38000000000000012'),\n",
        "       mpf('0.40000000000000013'), mpf('0.41999999999999993'),\n",
        "       mpf('0.43999999999999995'), mpf('0.45999999999999996'),\n",
        "       mpf('0.47999999999999998'), mpf('0.5'), mpf('0.52000000000000002'),\n",
        "       mpf('0.54000000000000004'), mpf('0.56000000000000005'),\n",
        "       mpf('0.58000000000000007'), mpf('0.60000000000000009'),\n",
        "       mpf('0.62000000000000011'), mpf('0.64000000000000012'),\n",
        "       mpf('0.66000000000000014'), mpf('0.67999999999999994'),\n",
        "       mpf('0.69999999999999996'), mpf('0.71999999999999997'),\n",
        "       mpf('0.73999999999999999'), mpf('0.76000000000000001'),\n",
        "       mpf('0.78000000000000003'), mpf('0.80000000000000004'),\n",
        "       mpf('0.82000000000000006'), mpf('0.84000000000000008'),\n",
        "       mpf('0.8600000000000001'), mpf('0.88000000000000012'),\n",
        "       mpf('0.90000000000000013'), mpf('0.91999999999999993'),\n",
        "       mpf('0.93999999999999995'), mpf('0.95999999999999996'),\n",
        "       mpf('0.97999999999999998'), mpf('1.0')], dtype=object)"
       ]
      }
     ],
     "prompt_number": 11
    },
    {
     "cell_type": "code",
     "collapsed": false,
     "input": [
      "subdivided = [Intervalo(a, b) for (a,b) in zip(division_points[:-1], division_points[1:])]\n",
      "subdivided"
     ],
     "language": "python",
     "metadata": {},
     "outputs": [
      {
       "metadata": {},
       "output_type": "pyout",
       "prompt_number": 12,
       "text": [
        "[Intervalo [mpf('-1.0'),mpf('-0.97999999999999998')],\n",
        " Intervalo [mpf('-0.97999999999999998'),mpf('-0.95999999999999996')],\n",
        " Intervalo [mpf('-0.95999999999999996'),mpf('-0.93999999999999995')],\n",
        " Intervalo [mpf('-0.93999999999999995'),mpf('-0.92000000000000004')],\n",
        " Intervalo [mpf('-0.92000000000000004'),mpf('-0.90000000000000002')],\n",
        " Intervalo [mpf('-0.90000000000000002'),mpf('-0.88')],\n",
        " Intervalo [mpf('-0.88'),mpf('-0.85999999999999999')],\n",
        " Intervalo [mpf('-0.85999999999999999'),mpf('-0.83999999999999997')],\n",
        " Intervalo [mpf('-0.83999999999999997'),mpf('-0.82000000000000006')],\n",
        " Intervalo [mpf('-0.82000000000000006'),mpf('-0.80000000000000004')],\n",
        " Intervalo [mpf('-0.80000000000000004'),mpf('-0.78000000000000003')],\n",
        " Intervalo [mpf('-0.78000000000000003'),mpf('-0.76000000000000001')],\n",
        " Intervalo [mpf('-0.76000000000000001'),mpf('-0.73999999999999999')],\n",
        " Intervalo [mpf('-0.73999999999999999'),mpf('-0.71999999999999997')],\n",
        " Intervalo [mpf('-0.71999999999999997'),mpf('-0.69999999999999996')],\n",
        " Intervalo [mpf('-0.69999999999999996'),mpf('-0.67999999999999994')],\n",
        " Intervalo [mpf('-0.67999999999999994'),mpf('-0.65999999999999992')],\n",
        " Intervalo [mpf('-0.65999999999999992'),mpf('-0.64000000000000001')],\n",
        " Intervalo [mpf('-0.64000000000000001'),mpf('-0.62')],\n",
        " Intervalo [mpf('-0.62'),mpf('-0.59999999999999998')],\n",
        " Intervalo [mpf('-0.59999999999999998'),mpf('-0.58000000000000007')],\n",
        " Intervalo [mpf('-0.58000000000000007'),mpf('-0.56000000000000005')],\n",
        " Intervalo [mpf('-0.56000000000000005'),mpf('-0.54000000000000004')],\n",
        " Intervalo [mpf('-0.54000000000000004'),mpf('-0.52000000000000002')],\n",
        " Intervalo [mpf('-0.52000000000000002'),mpf('-0.5')],\n",
        " Intervalo [mpf('-0.5'),mpf('-0.47999999999999998')],\n",
        " Intervalo [mpf('-0.47999999999999998'),mpf('-0.45999999999999996')],\n",
        " Intervalo [mpf('-0.45999999999999996'),mpf('-0.43999999999999995')],\n",
        " Intervalo [mpf('-0.43999999999999995'),mpf('-0.42000000000000004')],\n",
        " Intervalo [mpf('-0.42000000000000004'),mpf('-0.40000000000000002')],\n",
        " Intervalo [mpf('-0.40000000000000002'),mpf('-0.38')],\n",
        " Intervalo [mpf('-0.38'),mpf('-0.35999999999999999')],\n",
        " Intervalo [mpf('-0.35999999999999999'),mpf('-0.33999999999999997')],\n",
        " Intervalo [mpf('-0.33999999999999997'),mpf('-0.31999999999999995')],\n",
        " Intervalo [mpf('-0.31999999999999995'),mpf('-0.29999999999999993')],\n",
        " Intervalo [mpf('-0.29999999999999993'),mpf('-0.28000000000000003')],\n",
        " Intervalo [mpf('-0.28000000000000003'),mpf('-0.26000000000000001')],\n",
        " Intervalo [mpf('-0.26000000000000001'),mpf('-0.23999999999999999')],\n",
        " Intervalo [mpf('-0.23999999999999999'),mpf('-0.21999999999999997')],\n",
        " Intervalo [mpf('-0.21999999999999997'),mpf('-0.19999999999999996')],\n",
        " Intervalo [mpf('-0.19999999999999996'),mpf('-0.17999999999999994')],\n",
        " Intervalo [mpf('-0.17999999999999994'),mpf('-0.16000000000000003')],\n",
        " Intervalo [mpf('-0.16000000000000003'),mpf('-0.14000000000000001')],\n",
        " Intervalo [mpf('-0.14000000000000001'),mpf('-0.12')],\n",
        " Intervalo [mpf('-0.12'),mpf('-0.099999999999999978')],\n",
        " Intervalo [mpf('-0.099999999999999978'),mpf('-0.07999999999999996')],\n",
        " Intervalo [mpf('-0.07999999999999996'),mpf('-0.059999999999999942')],\n",
        " Intervalo [mpf('-0.059999999999999942'),mpf('-0.040000000000000036')],\n",
        " Intervalo [mpf('-0.040000000000000036'),mpf('-0.020000000000000018')],\n",
        " Intervalo [mpf('-0.020000000000000018'),mpf('0.0')],\n",
        " Intervalo [mpf('0.0'),mpf('0.020000000000000018')],\n",
        " Intervalo [mpf('0.020000000000000018'),mpf('0.040000000000000036')],\n",
        " Intervalo [mpf('0.040000000000000036'),mpf('0.060000000000000053')],\n",
        " Intervalo [mpf('0.060000000000000053'),mpf('0.080000000000000071')],\n",
        " Intervalo [mpf('0.080000000000000071'),mpf('0.10000000000000009')],\n",
        " Intervalo [mpf('0.10000000000000009'),mpf('0.12000000000000011')],\n",
        " Intervalo [mpf('0.12000000000000011'),mpf('0.14000000000000012')],\n",
        " Intervalo [mpf('0.14000000000000012'),mpf('0.15999999999999992')],\n",
        " Intervalo [mpf('0.15999999999999992'),mpf('0.17999999999999994')],\n",
        " Intervalo [mpf('0.17999999999999994'),mpf('0.19999999999999996')],\n",
        " Intervalo [mpf('0.19999999999999996'),mpf('0.21999999999999997')],\n",
        " Intervalo [mpf('0.21999999999999997'),mpf('0.23999999999999999')],\n",
        " Intervalo [mpf('0.23999999999999999'),mpf('0.26000000000000001')],\n",
        " Intervalo [mpf('0.26000000000000001'),mpf('0.28000000000000003')],\n",
        " Intervalo [mpf('0.28000000000000003'),mpf('0.30000000000000004')],\n",
        " Intervalo [mpf('0.30000000000000004'),mpf('0.32000000000000006')],\n",
        " Intervalo [mpf('0.32000000000000006'),mpf('0.34000000000000008')],\n",
        " Intervalo [mpf('0.34000000000000008'),mpf('0.3600000000000001')],\n",
        " Intervalo [mpf('0.3600000000000001'),mpf('0.38000000000000012')],\n",
        " Intervalo [mpf('0.38000000000000012'),mpf('0.40000000000000013')],\n",
        " Intervalo [mpf('0.40000000000000013'),mpf('0.41999999999999993')],\n",
        " Intervalo [mpf('0.41999999999999993'),mpf('0.43999999999999995')],\n",
        " Intervalo [mpf('0.43999999999999995'),mpf('0.45999999999999996')],\n",
        " Intervalo [mpf('0.45999999999999996'),mpf('0.47999999999999998')],\n",
        " Intervalo [mpf('0.47999999999999998'),mpf('0.5')],\n",
        " Intervalo [mpf('0.5'),mpf('0.52000000000000002')],\n",
        " Intervalo [mpf('0.52000000000000002'),mpf('0.54000000000000004')],\n",
        " Intervalo [mpf('0.54000000000000004'),mpf('0.56000000000000005')],\n",
        " Intervalo [mpf('0.56000000000000005'),mpf('0.58000000000000007')],\n",
        " Intervalo [mpf('0.58000000000000007'),mpf('0.60000000000000009')],\n",
        " Intervalo [mpf('0.60000000000000009'),mpf('0.62000000000000011')],\n",
        " Intervalo [mpf('0.62000000000000011'),mpf('0.64000000000000012')],\n",
        " Intervalo [mpf('0.64000000000000012'),mpf('0.66000000000000014')],\n",
        " Intervalo [mpf('0.66000000000000014'),mpf('0.67999999999999994')],\n",
        " Intervalo [mpf('0.67999999999999994'),mpf('0.69999999999999996')],\n",
        " Intervalo [mpf('0.69999999999999996'),mpf('0.71999999999999997')],\n",
        " Intervalo [mpf('0.71999999999999997'),mpf('0.73999999999999999')],\n",
        " Intervalo [mpf('0.73999999999999999'),mpf('0.76000000000000001')],\n",
        " Intervalo [mpf('0.76000000000000001'),mpf('0.78000000000000003')],\n",
        " Intervalo [mpf('0.78000000000000003'),mpf('0.80000000000000004')],\n",
        " Intervalo [mpf('0.80000000000000004'),mpf('0.82000000000000006')],\n",
        " Intervalo [mpf('0.82000000000000006'),mpf('0.84000000000000008')],\n",
        " Intervalo [mpf('0.84000000000000008'),mpf('0.8600000000000001')],\n",
        " Intervalo [mpf('0.8600000000000001'),mpf('0.88000000000000012')],\n",
        " Intervalo [mpf('0.88000000000000012'),mpf('0.90000000000000013')],\n",
        " Intervalo [mpf('0.90000000000000013'),mpf('0.91999999999999993')],\n",
        " Intervalo [mpf('0.91999999999999993'),mpf('0.93999999999999995')],\n",
        " Intervalo [mpf('0.93999999999999995'),mpf('0.95999999999999996')],\n",
        " Intervalo [mpf('0.95999999999999996'),mpf('0.97999999999999998')],\n",
        " Intervalo [mpf('0.97999999999999998'),mpf('1.0')]]"
       ]
      }
     ],
     "prompt_number": 12
    },
    {
     "cell_type": "markdown",
     "metadata": {},
     "source": [
      "Usemos la versi\u00f3n que da el rango m\u00e1s grande:"
     ]
    },
    {
     "cell_type": "code",
     "collapsed": false,
     "input": [
      "def f(x):\n",
      "    return x * (x-1)"
     ],
     "language": "python",
     "metadata": {},
     "outputs": [],
     "prompt_number": 13
    },
    {
     "cell_type": "code",
     "collapsed": false,
     "input": [
      "rangos = [f(i) for i in subdivided]"
     ],
     "language": "python",
     "metadata": {},
     "outputs": [],
     "prompt_number": 14
    },
    {
     "cell_type": "code",
     "collapsed": false,
     "input": [
      "rango_total = rangos[0]"
     ],
     "language": "python",
     "metadata": {},
     "outputs": [],
     "prompt_number": 15
    },
    {
     "cell_type": "code",
     "collapsed": false,
     "input": [
      "for i in rangos[1:]:\n",
      "    rango_total = rango_total.hull(i)"
     ],
     "language": "python",
     "metadata": {},
     "outputs": [],
     "prompt_number": 16
    },
    {
     "cell_type": "code",
     "collapsed": false,
     "input": [
      "rango_total"
     ],
     "language": "python",
     "metadata": {},
     "outputs": [
      {
       "html": [
        "[-0.26, 2.0]"
       ],
       "latex": [
        "$[-0.26, 2.0]$"
       ],
       "metadata": {},
       "output_type": "pyout",
       "prompt_number": 17,
       "text": [
        "Intervalo [mpf('-0.26000000000000001'),mpf('2.0')]"
       ]
      }
     ],
     "prompt_number": 17
    },
    {
     "cell_type": "code",
     "collapsed": false,
     "input": [
      "def g(x):\n",
      "    return x**2 - x"
     ],
     "language": "python",
     "metadata": {},
     "outputs": [],
     "prompt_number": 18
    },
    {
     "cell_type": "code",
     "collapsed": false,
     "input": [
      "rangos_g = [g(i) for i in subdivided]"
     ],
     "language": "python",
     "metadata": {},
     "outputs": [],
     "prompt_number": 19
    },
    {
     "cell_type": "code",
     "collapsed": false,
     "input": [
      "rango_total_g = rangos_g[0]\n",
      "for i in rangos_g[1:]:\n",
      "    rango_total_g = rango_total_g.hull(i)\n",
      "rango_total_g"
     ],
     "language": "python",
     "metadata": {},
     "outputs": [
      {
       "html": [
        "[-0.27, 2.0]"
       ],
       "latex": [
        "$[-0.27, 2.0]$"
       ],
       "metadata": {},
       "output_type": "pyout",
       "prompt_number": 20,
       "text": [
        "Intervalo [mpf('-0.27000000000000002'),mpf('2.0')]"
       ]
      }
     ],
     "prompt_number": 20
    },
    {
     "cell_type": "code",
     "collapsed": false,
     "input": [
      "def h(x):\n",
      "    return (x - 0.5)**2 - 0.25"
     ],
     "language": "python",
     "metadata": {},
     "outputs": [],
     "prompt_number": 21
    },
    {
     "cell_type": "code",
     "collapsed": false,
     "input": [
      "rangos_h = [h(i) for i in subdivided]"
     ],
     "language": "python",
     "metadata": {},
     "outputs": [],
     "prompt_number": 22
    },
    {
     "cell_type": "code",
     "collapsed": false,
     "input": [
      "rango_total_h = rangos_h[0]\n",
      "for i in rangos_h[1:]:\n",
      "    rango_total_h = rango_total_h.hull(i)\n",
      "rango_total_h"
     ],
     "language": "python",
     "metadata": {},
     "outputs": [
      {
       "html": [
        "[-0.25, 2.0]"
       ],
       "latex": [
        "$[-0.25, 2.0]$"
       ],
       "metadata": {},
       "output_type": "pyout",
       "prompt_number": 23,
       "text": [
        "Intervalo [mpf('-0.25'),mpf('2.0')]"
       ]
      }
     ],
     "prompt_number": 23
    },
    {
     "cell_type": "code",
     "collapsed": false,
     "input": [],
     "language": "python",
     "metadata": {},
     "outputs": []
    }
   ],
   "metadata": {}
  }
 ]
}