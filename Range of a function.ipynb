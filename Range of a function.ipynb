{
 "metadata": {
  "name": ""
 },
 "nbformat": 3,
 "nbformat_minor": 0,
 "worksheets": [
  {
   "cells": [
    {
     "cell_type": "code",
     "collapsed": false,
     "input": [
      "from intervalo import *\n",
      "import numpy as np"
     ],
     "language": "python",
     "metadata": {},
     "outputs": [],
     "prompt_number": 23
    },
    {
     "cell_type": "code",
     "collapsed": false,
     "input": [
      "x = Intervalo(-1, 1)"
     ],
     "language": "python",
     "metadata": {},
     "outputs": [],
     "prompt_number": 2
    },
    {
     "cell_type": "markdown",
     "metadata": {},
     "source": [
      "Queremos calcular el rango de la funci\u00f3n $f(x) = x(1-x)$. Al utilizar intervalos de una forma ingenua, el rango que sale depende de c\u00f3mo implementemos la funci\u00f3n:"
     ]
    },
    {
     "cell_type": "code",
     "collapsed": false,
     "input": [
      "x * (x-1)"
     ],
     "language": "python",
     "metadata": {},
     "outputs": [
      {
       "html": [
        "[-2.0, 2.0]"
       ],
       "latex": [
        "$[-2.0, 2.0]$"
       ],
       "metadata": {},
       "output_type": "pyout",
       "prompt_number": 5,
       "text": [
        "Intervalo [mpf('-2.0'),mpf('2.0')]"
       ]
      }
     ],
     "prompt_number": 5
    },
    {
     "cell_type": "code",
     "collapsed": false,
     "input": [
      "x**2 - x"
     ],
     "language": "python",
     "metadata": {},
     "outputs": [
      {
       "html": [
        "[-1.0, 2.0]"
       ],
       "latex": [
        "$[-1.0, 2.0]$"
       ],
       "metadata": {},
       "output_type": "pyout",
       "prompt_number": 6,
       "text": [
        "Intervalo [mpf('-1.0'),mpf('2.0')]"
       ]
      }
     ],
     "prompt_number": 6
    },
    {
     "cell_type": "code",
     "collapsed": false,
     "input": [
      "(x - 0.5)**2 - 0.25"
     ],
     "language": "python",
     "metadata": {},
     "outputs": [
      {
       "html": [
        "[-0.25, 2.0]"
       ],
       "latex": [
        "$[-0.25, 2.0]$"
       ],
       "metadata": {},
       "output_type": "pyout",
       "prompt_number": 8,
       "text": [
        "Intervalo [mpf('-0.25'),mpf('2.0')]"
       ]
      }
     ],
     "prompt_number": 8
    },
    {
     "cell_type": "markdown",
     "metadata": {},
     "source": [
      "Dibujemos la gr\u00e1fica de la funci\u00f3n:"
     ]
    },
    {
     "cell_type": "code",
     "collapsed": false,
     "input": [
      "from sympy import plot, symbols\n",
      "%matplotlib inline\n",
      "%load_ext retina"
     ],
     "language": "python",
     "metadata": {},
     "outputs": [],
     "prompt_number": 17
    },
    {
     "cell_type": "code",
     "collapsed": false,
     "input": [
      "xx = symbols(\"x\")"
     ],
     "language": "python",
     "metadata": {},
     "outputs": [],
     "prompt_number": 18
    },
    {
     "cell_type": "code",
     "collapsed": false,
     "input": [
      "plot(xx*(xx-1), (xx, -1, 1))"
     ],
     "language": "python",
     "metadata": {},
     "outputs": [
      {
       "html": [
        "<img src='data:image/png;base64,iVBORw0KGgoAAAANSUhEUgAAAtgAAAHsCAYAAADo0NojAAAABHNCSVQICAgIfAhkiAAAAAlwSFlz\n",
        "AAAWJQAAFiUBSVIk8AAAIABJREFUeJzs3Xd4VvX9//FnwhYpQ1YUKQgoDhyolaGVpWiRUcUiiqg4\n",
        "i1g7pK0WlX5tFQT1Z4t1gQsHIipDEAerSsAK4sJFRU0VtYwW2QnJ+f3xkVVQEkhyzn3fz8d15cqd\n",
        "c+ck71zX4eaVd97n88mKoihCkiRJUqnIjrsASZIkKZ0YsCVJkqRSZMCWJEmSSpEBW5IkSSpFBmxJ\n",
        "kiSpFBmwJUmSpFJkwJYkSZJKkQFbkiRJKkUGbEmSJKkUGbAlSZKkUmTAliRJkkqRAVuSJEkqRQZs\n",
        "SZIkqRQZsCVJkqRSZMCWpL300EMPceSRR1KtWjWaNGnC5ZdfzsqVK3d7Xl5eHgMGDOCGG27g6quv\n",
        "pk+fPuTl5ZVDxZKkspQVRVEUdxGSlKpGjx7NX/7yF3r37k1+fj4TJ07kvffeo0WLFrz55ptUq1Zt\n",
        "l+d99tlntG3blmHDhtG/f38A7r33Xm666SYWLFhAw4YNy/PHkCSVIgO2JO2hDRs20KNHD6ZNm0al\n",
        "SpUA2Lx5Mx07dmTu3Lk8/PDDnH/++bs8t2fPnixatGiHjnVRURGNGjWic+fOjB07tlx+BklS6XNE\n",
        "RJL20Pz587n55pu3hmuAihUr8vOf/xyAr7/+epfnLVu2jClTptCpU6cdjmdnZ9OhQwfGjx/PqlWr\n",
        "yq5wSVKZMmBL0h7q2LEjxx9//E7Ha9asCcBhhx22y/PmzZsHwCGHHLLTcy1btqSgoIDc3NxSrFSS\n",
        "VJ4M2JJUyt555x0aN27Maaedtsvnt4yF1K1bd6fn6tWrB8DSpUvLrkBJUpkyYEtSKdq8eTOPPPII\n",
        "99xzD9nZu36J3bBhAwCVK1fe6bkqVaoAsHbt2rIrUpJUpgzYklSKRowYQb9+/b6zew3bOtcFBQU7\n",
        "PbflWPXq1cumQElSmUtEwM7Kgm9XqZKklDVp0iRWrVrFdddd972fl5OTA7DLtbJXrFgBQPPmzb/3\n",
        "a2RlZe32bejQoXv2g0iS9krFuAsAqFoVxo4NIbtLl7irkaSSmzFjBrm5uYwYMWK3n9umTRuys7NZ\n",
        "smTJTs99+OGHVKxYkfbt2xfr+7rSqiQlTyI62DfcEN5ffjmsXx9vLZJUUrNnz+b5559n+PDhOxz/\n",
        "z3/+w5w5cwB2WO+6Xr16dOvWjZkzZ+7w+UVFRcycOZMePXpQq1atsi9cklQmErHRTEEBtG4N774L\n",
        "v/893HJL3BVJUvG88sor9O/fn4svvniH4/n5+Tz33HPMmDGD++67j2uvvZZbb72Va665BoAlS5Zw\n",
        "/PHHc9ddd3HeeecBcP/99/O73/2OhQsX0rRp0+/9vllZWYAdbElKokSMiFSqBPffD+3awciR0Lcv\n",
        "HHlk3FVJ0vdbuHAh3bp1Y926ddyw5U9x38rKyqJfv37Url2bnJwcatSosXX2GqBFixbk5uZy4403\n",
        "snDhQqIoYtmyZcyfP3+34VqSlGyJ6GBvMWgQ3HUXnHACzJ0LFSrEXZEkJZMdbElKrkQF7G++gcMO\n",
        "gy++gL/+NQRuSdLODNiSlFyJCtgAEyfCT38K++4L778PjRrFXZEkJY8BW5KSKxGriGyvV6/wtnYt\n",
        "XHVV3NVIkiRJJZO4DjbA55+HUZE1a+CZZ0JHW5K0jR1sSUquxHWwIYyFbFmqb9AgWL063nokSZKk\n",
        "4kpkwAa44gpo0waWLYPd7DosSZIkJUYiR0S2eOedsAFNYWFYtq9t27grkqRkcEREkpIrsR1sgFat\n",
        "YPBgiCK47DLIz4+7IkmSJOn7JTpgA1x/PTRrFrZRHzky7mokSZKk75foEZEtZsyALl2gcuUwNnLw\n",
        "wXFXJEnxckREkpIrJQI2wJVXwoIFUL16CNzf/t8iSRnJgC1JyZUyAXvFCjj00PD+/vvhkkvirkiS\n",
        "4mPAlqTkSpmADfDEE3DuuVCzJrz3Huy/f9wVSVI8DNiSlFyJv8lxe+ecA926hY1nBg2KuxpJkiRp\n",
        "ZynVwQb417/g8MPDNuoTJsBZZ8VdkSSVPzvYkpRcKdXBBjjwQBg2LDweNAj+859465EkSZK2l3IB\n",
        "G8I26ieeCF99BddcE3c1kiRJ0jYpNyKyxQcfwFFHhd0dX34ZOneOuyJJKj+OiEhScqVkBxugZcuw\n",
        "yyOEbdTXr4+3HkmSJAlSOGAD/Pa30KoVLF0KN9wQdzWSJElSCo+IbPH669CmTXg8fz4cf3y89UhS\n",
        "eXBERJKSK6U72BAC9S9/CUVFYXfHgoK4K5IkSVImS/mADfB//wdNm8Lbb8Ott8ZdjSRJkjJZyo+I\n",
        "bPHyy3DKKVC7NuTmhpsgJSldOSIiScmVFh1sgC5dYPBgqFYNBgyAwsK4K5IkSVImSpuADXDttRBF\n",
        "MG8ejBoVdzWSJEnKRGkzIrLF5MnQs2foZL/zDjRrFndFklT6HBGRpORKqw42QI8e0LcvbNgQVhUp\n",
        "Koq7IkmSJGWStOtgA6xYAYcdBsuXw913wxVXxF2RJJUuO9iSlFxpGbABnnoKfvYz2HdfWLwYGjeO\n",
        "uyJJKj0GbElKrrQbEdmid28480xYuxYuuyzc/ChJkiSVtbTtYAN89RUcfjisWgUPPAAXXRR3RZJU\n",
        "OuxgS1JypXXABnj0UTj/fKhZE957D/bfP+6KJGnvGbAlKbnSdkRki/POg27dYPXqcLOj/xdJkiSp\n",
        "LKV9Bxvg88/DqMg338Djj4dl/CQpldnBlqTkSvsONkCjRnD77eHxVVfB11/HW48kSZLSV0YEbIAB\n",
        "A6BLF1i5MoRsSZIkqSxkxIjIFp9+CkccAevWwYQJcNZZcVckSXvGERFJSq6M6WADNGkCw4eHxwMH\n",
        "hm62JEmSVJoyKmAD/Pzn8OMfQ3Y2/OlPcVcjSZKkdJNRIyJbLFkCJ54I//43TJwIPXvGXZEklYwj\n",
        "IpKUXBnXwQZo0QL+8Ifw+PLLHRWRJElS6cnIgA0waFAYFfn6a1cVkSRJUunJyBGRLZYuhVatYP16\n",
        "ePppOPPMuCuSpOJxRESSkitjO9gABx0Et94aHl9xBSxfHm89kiRJSn0ZHbAhrCrSsWMI14MGxV2N\n",
        "JEmSUl1Gj4hs8cknYVRk3ToYPx7OPjvuiiTp+zkiIknJlfEdbICmTWHkyPB44MCwfJ8kSZK0JwzY\n",
        "37r8cujSBVasCCHbppAkSZL2hCMi2/nsszAqsmYNPPEEnHNO3BVJ0q45IiJJyWUHezs//CHcdlt4\n",
        "fOWV8NVX8dYjSZKk1GPA/h+XXAKnngqrVoWl+2wOSZIkqSQM2P8jKwtGj4Yf/CBsRDNuXNwVSZIk\n",
        "KZU4g/0dxo2Dc88NQfvdd6FRo7grkqRtnMGWpOSyg/0d+vSBbt1g9WoYMMBREUmSJBWPAfs7ZGXB\n",
        "/ffDfvvBSy/B3XfHXZEkSZJSgSMiuzFhQtjZcZ994K23oHnzuCuSJEdEJCnJ7GDvRu/eYRZ7/Xro\n",
        "3x8KC+OuSJIkSUlmwC6GUaNg//1h3jwYMSLuaiRJkpRkjogU0/TpcPrpUKkSLFgARx4Zd0WSMpkj\n",
        "IpKUXHawi+m00+Dyy6GgIIyK5OfHXZEkSZKSyIBdAiNHwkEHhZsd//jHuKuRJElSEjkiUkKvvgo/\n",
        "/nFYxu/VV6Ft27grkpSJHBGRpOSyg11CJ54I11wDRUVwwQWwbl3cFUmSJClJ7GDvgY0b4bjjYPFi\n",
        "GDQI/vrXuCuSlGnsYEtSchmw99CiRfCjH8HmzfDyy9C5c9wVScokBmxJSi5HRPbQMcfAjTeGxxde\n",
        "CP/9b6zlSJIkKSEM2Hvh978PXezPP4ebboq7GkmSJCWBAXsvVKwIjzwCJ58Mt98OEybEXZEkSZLi\n",
        "ZsDeS4ccAmefHR5ffjksWxZvPZIkSYqXAbsUDBwYdnpctQouuigs4SdJkqTMZMAuBVlZ8MADsN9+\n",
        "8OKLcNddcVckSZKkuLhMXyl65hk46yyoWhUWLoTDDou7IknpymX6JCm57GCXojPPDCMiGzdCv36Q\n",
        "nx93RZIkSSpvBuxSdued0LRp2Ihm6NC4q5FU3jZu3LhX5xcWFvL222+XUjWSpDgYsEtZjRowdixk\n",
        "Z8Pw4fDqq3FXJKk8rFmzhltuuYUDDzywROedfPLJZGdnb32rVKmSAVuSUlzFuAtIR+3bh01obr4Z\n",
        "zj8f3noLfvCDuKuSVFbmzJnD7NmzGT58OJs2bSr2ebm5uRQUFHDNNddsPVatWjX69OlTFmVKksqJ\n",
        "NzmWkfx8aNsW3ngjbKX+4INxVySprLVv35758+dTWFhYrM/v0aMHt956Ky1btizx9/ImR0lKLjvY\n",
        "ZaRyZXj0UWjdGh56CLp3DzdBSkpflSpVKvbnvvXWW7z44otUqFCBE088kZ49e9K8efMyrE6SVF6c\n",
        "wS5Dhx4KI0aEx5ddBl9+GW89kpJjypQp1K9fn0mTJjF48GAOPvhgLr30UvJdfkiSUp4Bu4xdeSV0\n",
        "7QorV8KQIe7yKCkYMmQIeXl5rFixglGjRtGgQQPGjBnDhRdeGHdpkqS9ZMAuY1lZYf76tNPCbo9/\n",
        "+UvcFUlKkjp16jBw4EAWL17M0Ucfzbhx41iwYEHcZUmS9oIBuxzk5MDll4fHv/tdWFVEkrZXp04d\n",
        "Ro8eDcBrr70WczWSpL1hwC4nvXqFOez8fDj3XNiwIe6KJCVN69atqV27dok2q8nKyvrOt6HudiVJ\n",
        "sXAVkXJ0++0wZw689x5ccw3cdVfcFUlKkiiKKCgooEWLFiU6R5KULHawy1H16vDEE1CpEvztbzBl\n",
        "StwVSSoveXl5u/2c2bNnU6tWLbp27VoOFUmSyooBu5wdc0zY4RFgwACX7pPSydq1a4miiM2bN+9w\n",
        "fPjw4TRp0oSRI0cCMG/ePHJycjj33HP58tsXgU8++YRrr72WCRMmUKVKlXKvXZJUegzYMfj1r6FL\n",
        "F1ixAi64wKX7pFQ3f/58rr/+ehYtWkRWVhYDBw5k8uTJW5/PycmhRo0a5OTkANCiRQuOPfZYpk6d\n",
        "SuvWrRkwYAAPP/wwkydP5kc/+lFcP4YkqZS4VXpMli2DI48M62PfdlsI3ZJUXG6VLknJZcCO0eTJ\n",
        "0LNn2Fb9tdfg6KPjrkhSqjBgS1JyOSISox494IorwtJ9ffvC+vVxVyRJkqS9ZcCO2W23waGHwgcf\n",
        "wG9+E3c1kiRJ2luOiCTAm2/CCSeETvbEiWFsRJK+jyMikpRcdrAT4Oij4ZZbwuOLLw43QEqSJCk1\n",
        "2cFOiKIiOP10ePHFsITfCy9Atr/+SPoOdrAlKbmMcAmRnQ0PPQR168LLL8M998RdkSRJkvaEATtB\n",
        "cnLggQegbVv45S/h9dfjrkiSJEklZcBOmO7d4fjjoaAAzjkHvvkm7ookSZJUEs5gJ9CmTdCmTVhd\n",
        "pG9feOwx+HbcUpIAZ7AlKcnsYCdQlSowbhxUrw5PPBFmsyVJkpQaDNgJdcghcNdd4fGgQWEjGkmS\n",
        "JCWfATvB+veHfv3CFup9+sDGjXFXJEmSpN0xYCdYVhb87W/QvDm8/TYMHhx3RZIkSdodb3JMAQsX\n",
        "hqX7Cgrg2WehV6+4K5IUN29ylKTksoOdAo49FoYPD48HDIC8vHjrkSRJ0nezg50ioiiskT11Kpx4\n",
        "IsyaBRUrxl2VpLjYwZak5LKDnSKysuDBB8Nuj6++Cv/3f3FXJEmSpF2xg51iZs2Czp3D4xkzoGPH\n",
        "eOuRFA872JKUXHawU0zHjvCHP4SRkX794N//jrsiSZIkbc8OdgravBm6dg3rYteqBVOmQLa/KkkZ\n",
        "xQ62JCWXsSwFVawY5rE/+ACmTYORI+OuSJIkSVvYwU5hzz0XVhapUAHmzIH27eOuSFJ5sYMtScll\n",
        "BzuFnXEGXHMNFBbCOefAypVxVyRJkiQ72CmuoAB+/GOYPx+6dYPJk53HljKBHWxJSi6jWIqrVAme\n",
        "fBJq1w6b0Nx+e9wVSZIkZTY72GliyhTo0SPMY//979CuXdwVSSpLdrAlKbnsYKeJ7t3h1792HluS\n",
        "JCludrDTSH5+mMd+7bVwA+TkyWGLdUnpxw62JCWXHew0UrlymMeuVSss4ec8tiRJUvmzg52GJk2C\n",
        "Xr3ChjSvvAJt2sRdkaTSZgdbkpLLDnYa6tkTfvUr2Gcf+OMfnceWJEkqT3aw01R+Ppx5Zli67/TT\n",
        "w8iI62NL6cMOtiQll5ErTVWuDH/7G9SpA88/D8OGxV2RJElSZrCDneaefx5+8pPQvX7pJejUKe6K\n",
        "JJUGO9iSlFx2sNPc6afDkCFQVAR9+8KyZXFXJEmSlN7sYGeAwkI49VSYORNOOim8r1gx7qok7Q07\n",
        "2JKUXHawM0CFCvD445CTE5bt+8Mf4q5IkiQpfdnBziCvvAIdO4aO9qRJ0KNH3BVJ2lN2sCUpuexg\n",
        "Z5CTTtq2msgFF8DSpfHWI0mSlI7sYGeYKArrY0+cCK1bw9y5ULVq3FVJKik72JKUXHawM0xWFjz4\n",
        "IBx0ELzxBvzyl3FXJEmSlF4M2BmoVi2YMAGqVIF774VHH427IkmSpPRhwM5QxxwDf/1reHz//fDu\n",
        "u/HWI0mSlC6cwc5gUQTXXgvDh0OLFvD661CzZtxVSSoOZ7AlKbkM2Blu/Xpo2xbefht69oRnngnb\n",
        "qktKNgO2JCWXUSrD7bNPCNU1a4a1sYcPj7siSZKk1GYHWwA89xx07x6619OnwymnxF2RpO9jB1uS\n",
        "kssOtgA44wy4/nooKoK+fSEvL+6KJEmSUpMdbG1VWBiC9vTpcNxxYWt1N6GRkskOtiQllx1sbVWh\n",
        "Ajz2GDRpAgsWwNVXx12RJElS6jFgawd16sDTT4dNaO67Dx54IO6KJEmSUosBWztp3Rruvjs8Hjgw\n",
        "bKkuSZKk4jFga5cuugguuww2bYKzzoKVK+OuSJIkKTV4k6O+06ZNcNJJ8MUX0LkzPPhgmNOWFD9v\n",
        "cpSk5LKDre9UpQo89RRUrw5jx4Zl/CRJkvT97GBrt2bNChvPFBaGwN27d9wVSbKDLUnJZQdbu9Wx\n",
        "I4wcGR5feCEsXhxrOZIkSYlmB1vFEkVw/vlhnezmzeH116FWrbirkjKXHWxJSi4Dtopt/Xpo3x7e\n",
        "fBN+8hOYMgWy/RuIFAsDtiQll/FIxbbPPvDMM2EzmmnTYOjQuCuSJElKHjvYKrGXXoLTToOiInj2\n",
        "WejVK+6KpMxjB1uSkssOtkrslFNg2LDwuH9/eP/9eOuRJElKEjvY2iNRBOecE252bNwYJk70pkep\n",
        "PNnBlqTksoOtPZKVBWPGQE4OzJkDffuGdbIlSZIynQFbe2zffcOyffvtB9Onw3XXxV2RJElS/BwR\n",
        "0V6bPTvMZW/eDI8+CuedF3dFUvpzRESSkssOtvZahw5w553h8SWXwIIFsZYjSZIUKzvYKhVRBJdf\n",
        "DvffDwccEEJ2w4ZxVyWlLzvYkpRcBmyVmvx86NQJ5s6Fdu1g5kyoUiXuqqT0ZMCWpORyRESlpnJl\n",
        "ePppOPBAyM2FK68MnW1JkqRMYsBWqWrQIKyJXbVqWMbvrrvirkiSJKl8OSKiMvHEE3DuuVChQtha\n",
        "vWPHuCuS0osjIpKUXHawVSb69oXf/S5sPnP22fDJJ3FXJEmSVD7sYKvMFBZCjx4wbRq0ahXmsvfd\n",
        "N+6qpLKzceNGqlatWi7fyw62JCWXAVtlavVqOOEE2LQprJc9Zgxk+3cTpZk1a9YwatQobr/9dpYv\n",
        "X16sc/Ly8hg6dCiNGjVi9erVfPXVV4wYMYLGjRsX63wDtiQlV8W4C1B6q1kTJk+GLl3goYcgJwdu\n",
        "vjnuqqTSM2fOHGbPns3w4cPZtGlTsc757LPPaNu2LcOGDaN///4A3HvvvbRr144FCxbQ0EXkJSml\n",
        "2cFWuXjpJTj99DA28vDD8G2mkNJG+/btmT9/PoWFhbv93J49e7Jo0SLy8vK2HisqKqJRo0Z07tyZ\n",
        "sWPH7vZr2MGWpOTyj/UqF6ecAn/5S3h86aVhMxopnVSqVKlYn7ds2TKmTJlCp06ddjienZ1Nhw4d\n",
        "GD9+PKtWrSqLEiVJ5cSArXIzcCAMGhR2fPzpT+HTT+OuSCp/8+bNA+CQQw7Z6bmWLVtSUFBAbm5u\n",
        "eZclSSpFBmyVqzvugFNPheXLoXt3WLMm7oqk8rVlLKRu3bo7PVevXj0Ali5dWq41SZJKlwFb5api\n",
        "RXjySWjZEt59N6yXXYyRVSltbNiwAYDKlSvv9FyVKlUAWLt2bbnWJEkqXQZslbtatWDKFKhTB6ZO\n",
        "DRvSSJliS+e6oKBgp+e2HKtevXq51iRJKl0GbMWieXN4+unQ0b7ttrA+tpQJcnJyAFi5cuVOz61Y\n",
        "sQKA5s2bF/vrZWVlfefb0KFDS6VmSVLJuA62YtOhA9x9d1hV5Oc/D6H75JPjrkoqW23atCE7O5sl\n",
        "S5bs9NyHH35IxYoVad++fbG/nsv0SVLy2MFWrC65BH79aygogDPPhI8/jrsiqfRtv951vXr16Nat\n",
        "GzNnztzhc4qKipg5cyY9evSgVq1a5V2iJKkUGbAVu1tvhZ/8BFatgjPOCNurS6lm7dq1RFHE5s2b\n",
        "dzg+fPhwmjRpwsiRI7ceGzlyJKtWreKxxx7bemzMmDGsX7+eESNGlFvNkqSy4YiIYlehAjzxBLRr\n",
        "B4sXQ58+8NxzYT5bSrr58+czdepUFi1aRFZWFgMHDuSMM86gR48eQJi5rlGjxtbZa4AWLVqQm5vL\n",
        "jTfeyMKFC4miiGXLljF//nyaNm0a148iSSolbpWuxPjkE/jRj6B+fejaNdz8+O1u0JL+h1ulS1Jy\n",
        "OSKixGjaFCZPhi++CBvS3Hln3BVJkiSVnB1sJc4TT8C554bu9bPPQs+ecVckJY8dbElKLjvYSpy+\n",
        "feFPf4IoCkF7wYK4K5IkSSo+O9hKpCiCAQPgoYegYUOYPx9++MO4q5KSww62JCWXAVuJlZ8Pp50G\n",
        "s2bBEUfAq69CzZpxVyUlgwFbkpLLERElVuXKYTv1li3h3Xfh7LPDhjSSJElJZsBWotWuDdOmQb16\n",
        "8NJLcOWVYXxEkiQpqQzYSrwty/dVrQr33w9udCdJkpLMGWyljAkTwpgIwFNPQe/e8dYjxckZbElK\n",
        "LjvYShm9e8Pw4eHx+eeHlUUkSZKSxoCtlDJ4MFx6KWzcCNdfDx9/HHdFkiRJO3JERCmnoACuugru\n",
        "vRdatIDcXKhbN+6qpPLliIgkJZcBWylpzRr48Y/hzTehTRuYMQP22SfuqqTyY8CWpORyREQpqUaN\n",
        "sHxf48ZhFvu886CwMO6qJEmSDNhKYTk5MH061KoFEyfC1Ve7RrYkSYqfAVsp7dBDYdKksOvjXXfB\n",
        "yJFxVyRJkjKdM9hKC+PHQ58+4fHjj0PfvvHWI5U1Z7AlKbnsYCst/OxncNtt4fEFF8CsWfHWI0mS\n",
        "MpcdbKWNKIJf/QruvBNq1oRXX4Ujjoi7Kqls2MGWpOQyYCutFBaGUZGnn4ZGjWDevPBeSjcGbElK\n",
        "LgO20s6GDdClC1SoAN98A7Nnh5VGpHRiwJak5HIGW2mnWjWYMgVWrIC33oIePULoliRJKg8GbKWl\n",
        "OnXCGtkHHACvvALnngubN8ddlSRJygQGbKWtxo3hhRe2bUQzcKAb0UiSpLJnwFZaO/xweO45qFoV\n",
        "7r8fbrwx7ookSVK6M2Ar7bVvHzaiqVABbroJRo2KuyJJkpTODNjKCN27hw42wC9+EQK3JElSWTBg\n",
        "K2NcdBHcckuYw+7XD2bMiLsiSZKUjlwHWxll+90ea9QIa2S3bh13VVLJuQ62JCWXAVsZp6godLCf\n",
        "eALq14fcXGjWLO6qpJIxYEtSchmwlZHy8+GMM+Cll+Cgg2DuXGjYMO6qpOIzYEtSchmwlbHWrIFO\n",
        "nWDBAjjqKJgzB2rWjLsqqXgM2JKUXAZsZbR//xtOPBFycsLH06eHrdalpDNgS1JyuYqIMlr9+vDi\n",
        "i/DPf8Lf/w5nnw0FBXFXJUmSUpkBWxmvSZMwi73ffjB1KlxwARQWxl2VJElKVQZsCTjssDAeUqNG\n",
        "WF1k0KCwpJ8kSVJJGbClbx13HEyeDFWqwD33wB/+EHdFkiQpFRmwpe106ABPPQUVKoRdH2+9Ne6K\n",
        "JElSqjFgS/+je3d4+GHIyoLf/Q7uuy/uiiRJUioxYEu7cN55MGpUeHzFFfDkk/HWI0mSUocBW/oO\n",
        "AwfCn/8cbnbs1w+efz7uiiRJUipwoxnpe0QR/Pa3MHJk2IDmhRfgpJPirkpyoxlJSjI72NL3yMoK\n",
        "NzpecknYgOaGG+D11+OuSpIkJZkdbKkYCgvhN7+BO++E2rVh9mw48si4q1Ims4MtScllwJaKqaAA\n",
        "evcOa2XXqxe2Vm/ZMu6qlKkM2JKUXAZsqQQ2bYIePeDFF2H//UPIbtYs7qqUiQzYkpRcBmyphNav\n",
        "h5/8BObMgcaN4ZVXwnupPBmwJSm5vMlRKqF99oEpU6BNG8jLg06dYNmyuKuSJElJYcCW9kCNGmFd\n",
        "7Nat4eOPoUsXWL487qokSVISGLClPVSrVpjFPuIIeP99OOUUWLUq7qokSVLcDNjSXthvP3jpJTj4\n",
        "YHjrLTjtNPjmm7irkiRJcTJgS3upYUOYMQOaNg2b0HTrBuvWxV2VJEmKiwFbKgWNGoWQ3ahRGBcZ\n",
        "MCCsNiJJkjKPAVsqJU2bhpDdrBmMHw89e8KGDXFXJUmSypvrYEul7P33oWNH+PprOPVUmDQJqlaN\n",
        "uyqlG9fBlqTksoMtlbJDD4WZM6F+/bDKyE9/Chs3xl2VJEkqLwZsqQwcdlgYF6lbF6ZPh7POCtus\n",
        "S5Kk9GfAlsrIEUeETvZ++8G0adC7tyFbkqRMYMCWylCrVqGTXacOPPcc/OxnkJ8fd1WSJKksGbCl\n",
        "MnbUUSFk164NkydDnz5QUBB3VZIkqawYsKVycPTR8PLLYXv1iROhXz9DtiRJ6cqALZWT1q1DyK5f\n",
        "Hz7+OHSyHReRJCn9uA62VM4WLoQuXeC//4Xu3eGpp6BKlbirUqpxHWxJSi472FI5O/bYsLpInTow\n",
        "ZQr06uWOj5IkpRMDthSDY44JIXvLOtk9esD69XFXJUmSSoMBW4rJUUfB7NnQoEGYzT7jDFi3Lu6q\n",
        "JEnS3jKto1uvAAAgAElEQVRgSzE6/PAQsnNyYNYsOP10WLMm7qokSdLeMGBLMWvZEubMgQMOgFde\n",
        "ga5dYfXquKuSJEl7yoAtJUCLFiFkN24M8+bBqaeGVUYkSVLqMWBLCdGsWQjZTZvCP/4BnTvDqlVx\n",
        "VyVJkkrKgC0lSJMmIWQ3awZvvAGdOsHy5XFXJUmSSsKALSXMgQeGkH3wwfDWW3DllfDll3FXJUmS\n",
        "isuALSXQAQeEkN2nT9jp8aST4NNP465KkiQVh1ulSwm2YgWcdlrYXr1Ro7Be9iGHxF2VksCt0iUp\n",
        "uexgSwlWty7MmAEnngiffx462W++GXdVKkuFhYW8/fbbcZchSdoLBmwp4WrWhBdeCJ3s5cuhQwfI\n",
        "zY27Km0vLy+PAQMGcMMNN3D11VfTp08f8vLyinXuySefTHZ29ta3SpUqGbAlKcVVjLsASbu3zz4w\n",
        "aRKcey48/TScckr4uEuXuCvTZ599Rtu2bRk2bBj9+/cH4N5776Vdu3YsWLCAhg0bfue5ubm5FBQU\n",
        "cM0112w9Vq1aNfr06VPmdUuSyo4z2FIK2bwZLr0UHnoIKleG8eOhZ8+4q8psPXv2ZNGiRTt0rIuK\n",
        "imjUqBGdO3dm7Nix33lujx49uPXWW2nZsmWJv68z2JKUXI6ISCmkYkUYMwauugry8+Gss+Cxx+Ku\n",
        "KnMtW7aMKVOm0KlTpx2OZ2dn06FDB8aPH8+q79gt6K233uLFF1/k2muv5bbbbuOf//xneZQsSSoH\n",
        "BmwpxWRnw513wh/+AIWFcP75cM89cVeVmebNmwfAIbtY2qVly5YUFBSQ+x0D81OmTKF+/fpMmjSJ\n",
        "wYMHc/DBB3PppZeSn59fpjVLksqeAVtKQVlZ8Kc/wfDhEEXw85/DrbfGXVXm2TIWUrdu3Z2eq1ev\n",
        "HgBLly7d5blDhgwhLy+PFStWMGrUKBo0aMCYMWO48MILy6xeSVL5MGBLKey3v4W77w6B+3e/gyFD\n",
        "QuBW+diwYQMAlStX3um5KlWqALB27drv/Rp16tRh4MCBLF68mKOPPppx48axYMGC0i9WklRuDNhS\n",
        "irviChg7FipUgD//GW68EYqK4q4qM2zpXBcUFOz03JZj1atXL9bXqlOnDqNHjwbgtddeK6UKJUlx\n",
        "MGBLaeC888LyfZ07w003heX8Nm2Ku6r0l5OTA8DKlSt3em7FihUANG/evNhfr3Xr1tSuXZuNGzcW\n",
        "+5ysrKzvfBs6dGixv44kqfS4DraUJnr2hB/8AP7xD3jySVi5Ep55BmrUiLuy9NWmTRuys7NZsmTJ\n",
        "Ts99+OGHVKxYkfbt2xf760VRREFBAS1atCjROZKkZLGDLaWRjh1hzhyoXx9efhk6dQq7P6ps1KtX\n",
        "j27dujFz5swdjhcVFTFz5kx69OhBrVq1AIq1s+Ps2bOpVasWXbt2LZN6JUnlw4AtpZljjoG5c+Gg\n",
        "g2DBAmjfHj79NO6q0tfIkSNZtWoVj223IPmYMWNYv349I0aMAGD48OE0adKEkSNHAmF5v5ycHM49\n",
        "91y+/PJLAD755BOuvfZaJkyYsPUGSUlSanJEREpDzZuHkH3aafDWW9CuHbzwArRqFXdl6adFixbk\n",
        "5uZy4403snDhQqIoYtmyZcyfP5+mTZsCYVa7Ro0aW2e2W7RowbHHHsvUqVOZNWsWp59+Oo0bN2by\n",
        "5MnUr18/zh9HklQK3CpdSmOrV0OvXjB7NtSqBVOmwIknxl2VSoNbpUtScjkiIqWxmjXh+efhzDPh\n",
        "v/+FU06ByZPjrkqSpPRmwJbSXNWqMH48XHYZbNwI55wDjzwSd1WSJKUvZ7ClDFChAtxzDzRoEFYX\n",
        "ueACWLo0bErz7aSBJEkqJc5gSxnmnnvgyivDbo8XXQT33guVKsVdlUrKGWxJSi4DtpSBpkwJoyLr\n",
        "10PXrvDUU25Ik2oM2JKUXAZsKUP94x9wxhlhI5qjj4Zp0+DbVeSUAgzYkpRc3uQoZagf/QjmzYMW\n",
        "LeDNN6FNG3jvvbirkiQp9RmwpQzWrBnk5oZwnZcXdn38+9/jrkqSpNRmwJYyXN26MGNG2JBmy1rZ\n",
        "Tz4Zd1WSJKUuA7Yk9tkHJkyAQYMgPz/cAHnbbeB4ryRJJWfAlgSEtbL/8hcYMSJ8/PTT8POfQ0FB\n",
        "vHVJkpRqXEVE0k6eeQYuvBDWrAkjI+PHQ61acVel7bmKiCQllwFb0i7Nmwc9e4Zl/A49FJ57Dg46\n",
        "KO6qtIUBW5KSyxERSbvUtm1YK/vww+H99+GEE2Du3LirkiQp+QzYkr5TkyYhVHftCitWQKdO8Nhj\n",
        "cVclSVKyGbAlfa+aNcN4yJVXhhVG+vWDG25whRFJkr6LM9iSiu2vf4Vf/hKKiqBPH3jwQahWLe6q\n",
        "MpMz2JKUXAZsSSUybVpYJ3vNmrAD5MSJ0KBB3FVlHgO2JCWXAVtSib3zDpxxRthevXHjMELSqlXc\n",
        "VWUWA7YkJZcz2JJKrFUreO21sLJIXh60bw/PPx93VZIkJYMBW9IeadgQZs0Ks9hr1sAtt8DIkd78\n",
        "KEmSIyKS9kpRUdhi/Ve/Ch+fdx7cf783P5Y1R0QkKbkM2JJKxTPPQP/+sG4dtG4Nzz4b5rNVNgzY\n",
        "kpRcBmxJpebdd8P26kuXQr16MGEC/PjHcVeVngzYkpRczmBLKjVHHAGvvw6nngrLl0PnzvC3vzmX\n",
        "LUnKLAZsSaWqTh2YOhWuuQY2bw47QF52GWzaFHdlkiSVD0dEJJWZxx6DSy6BjRuhbVt4+mnIyYm7\n",
        "qvTgiIgkJZcBW1KZeuMN6NUL/vUv2H//cDPkCSfEXVXqM2BLUnI5IiKpTLVuDQsWhJsdly0L7x96\n",
        "KO6qJEkqOwZsSWWufn14+eUwj52fDxddBFdfDQUFcVcmSVLpc0REUrkaPRoGDgzhun9/uPVWaNAg\n",
        "7qpSjyMikpRcBmxJ5W7evLDKyKJFUKsWPPkknHRS3FWlFgO2JCWXIyKSyl3btmETmuOPhy+/hI4d\n",
        "YeRI18uWJKUHA7akWOTkwIwZ8NvfQmEhDB4MZ54J//1v3JVJkrR3HBGRFLtJk+CCC2D1amjWLHS3\n",
        "jz467qqSzRERSUouO9iSYtezZ1gv+5hj4OOPoU0bGDPGkRFJUmoyYEtKhIMOgtzcbduqX3IJDBgA\n",
        "69fHXZkkSSXjiIikxHnkEbjiCtiwAVq1CiMjBx8cd1XJ4oiIJCWXAVtSIr3zDvTuDR99BDVqwAMP\n",
        "hI8VGLAlKbkcEZGUSK1aweuvw9lnw5o14f2vf+3uj5Kk5DNgS0qsH/wgbEJz551QqRLccUfoYn/2\n",
        "WdyVSZL03RwRkZQS5s8PW6tHEaxYEbZcP+usuKuKjyMikpRcdrAlpYQ2bcIW64ceGjaj6d0bLr/c\n",
        "VUYkScljB1tSSokiuOsuuOaasJzfoYfCuHFw5JFxV1a+7GBLUnLZwZaUUrKyYNAgeO01aNkS3n8f\n",
        "fvSjELrNmpKkJDBgS0pJRx0FCxbApZeGTvagQdCrF6xcGXdlkqRM54iIpJT31FMhaK9eDQccAI8+\n",
        "Ch06xF1V2XJERJKSyw62pJR39tnw1lvQrh188QV06gTXXw+bN8ddmSQpExmwJaWFH/4Q5swJwRrg\n",
        "T3+Ck0+GTz6Jty5JUuZxRERS2pk9G/r1Cx3sSpXgppvgggvCDZLpwhERSUouO9iS0k6HDmFkpHdv\n",
        "+PxzuOiisCnN8uVxVyZJygR2sCWlrSiCsWPhqqvgm2+gfn24/37o0SPuyvaeHWxJSi472JLSVlZW\n",
        "2F797behY0f497+hZ0+4+OIQuCVJKgsGbElp74c/hJdfhjvugCpV4IEHwjrar7wSd2WSpHRkwJaU\n",
        "EbKz4Ze/hDfegNat4dNPwyojv/1t2KhGkqTSYsCWlFEOOwzmzYMhQ8IIyYgRcNxx4aZISZJKgzc5\n",
        "SspY8+eHGe0lS8JyfiNHwsCBULFi3JXtnjc5SlJyGbAlZbR168KYyCuvwLvvwjHHbJvRTjIDtiQl\n",
        "lwFbkoAZM8LqIp99FjrY110Hf/gDVK4cd2W7ZsCWpOQyYEvSt9asgWuvhbvuCh8fcQQ8+GCY0U4a\n",
        "A7YkJZc3OUrSt2rUgFGjYM4caN48jIyccAL8/vewYUPc1UmSUoUBW5L+x49/HFYV+c1vwsfDh4fZ\n",
        "7Llz461LkpQaHBGRpO8xfz4MGADvvx+W9fvFL+DPf4bq1eOtyxERSUouO9iS9D3atIFFi8JNj9nZ\n",
        "cOedYbv1F1+MuzJJUlLZwZakYnrjDbj8cli1CpYuhb594fbboWHD8q/FDrYkJZcdbEkqptatwxz2\n",
        "5ZdDtWrwxBNw6KFw771QVBR3dZKkpLCDLUl74JNPwq6P06eHj9u2DUG7Vavy+f52sCUpuexgS9Ie\n",
        "aNoUpk2DJ58MIyLz5oUO9+9/D+vXx12dJClOdrAlaS+tXh1ugrz7bogiaNIE/vY3OP30svuedrAl\n",
        "KbkM2JJUSl57DS67DN5+O3x8zjkwYgQ0alT638uALUnJ5YiIJJWSE06ABQtCqN5nH1i2DFq2DBvV\n",
        "bNoUd3WSpPJiwJakUlSpElxzDSxeHGaz160Lc9mtWsHzz8ddnSSpPDgiIkll6MUX4eqr4YMPwsfd\n",
        "u8Mdd0CzZnv3dR0RkaTksoMtSWXo1FPhrbdg5EioUQOmTIHDD4chQ0J3W5KUfuxgS1I5+fLLMC7y\n",
        "yCPh4wMPDMH77LPh24Z0sdnBlqTkMmBLUjnLzYWrrgpbrwN07Ah/+QsccUTxv4YBW5KSKxEjIkOH\n",
        "Do27BGmXvDZVHHl5eQwYMIAbbriBq6++mj59+pCXl/edn9+uHfzjH3DLLXlUqTKAWbNuoG3bq2ne\n",
        "vA9vvPHd50mpwtdOJVl5XJ+J6GBnZWXZhVEieW1qdz777DPatm3LsGHD6N+/PwD33nsvN910EwsW\n",
        "LKBhw4bfe96QIcN4773+LFoEubn3kpV1E9deu4AhQxpSrdp3f1872EoyXzuVZOVxfRqwpe/htand\n",
        "6dmzJ4sWLdqhY11UVESjRo3o3LkzY8eOLdZ5ixfD4MFFPP98I6AzjRuP5eaboW9fyN7F3xoN2Eoy\n",
        "XzuVZOVxfSZiRESSUtGyZcuYMmUKnTp12uF4dnY2HTp0YPz48axatapY5x1+OEyblk3Hjh3IyhpP\n",
        "Xt4q+vULm9f8/e9l/qNIkkqRAVuS9tC8efMAOOSQQ3Z6rmXLlhQUFJCbm1ui8zp0aAkU8Itf5LL/\n",
        "/mFnyJNPhp/+FD76qHTrlySVDQO2JO2hLeMddevW3em5evXqAbB06dI9Oq9Zs6V89BH88Y9QvTpM\n",
        "nBi63DfcAF9/XWo/giSpDBiwJWkPbdiwAYDKlSvv9FyVKlUAWLt27R6fV716CNRLlsCll4ZZ7Icf\n",
        "3vtdICUpE23eDIWF5fO9EnOToyRJklQevMlRkiRJKiU33nhjmX+PimX+HYohAU10SSqx5cuXk5OT\n",
        "w4UXXsjo0aN3eK5///6MGzeOf//739SqVatUztvelr/8tW4dbd0Rslkz+L//g3PO2fXSfpKUCaII\n",
        "pk0LI3ZbXh8bNw4f9+8PlSqVfQ2+BEvSHqpXrx7dunVj5syZOxwvKipi5syZ9OjRY2tI3n6d7JKc\n",
        "tzsLFsBTT8Ehh8DHH8N550GfPvD001BUtJc/oCSlkCiCGTPCbrlnnBHCdU4OjBoVVmG6+OLyCddg\n",
        "wJakvTJy5EhWrVrFY489tvXYmDFjWL9+PSNGjABg+PDhNGnShJEjR5bovOLIyoLeveHdd2HMGGje\n",
        "HF55JRw76igYP96gLSn9vfoqdOoEXbrA/PlQrx7cdltoPFx5JXx7/3i5ScSIiCSlqhYtWpCbm8uN\n",
        "N97IwoULiaKIZcuWMX/+fJo2bQpATk4ONWrUICcnp0TnlUTFijBgQOhgjxkDt9wSQnefPnDYYXD9\n",
        "9XD22VChQqn96JIUu3/8I4x+vPBC+Lh2bRg8GK66CvbdN766ErGKiCSpZHa3VfqmTfDAAyFo/+tf\n",
        "4dihh8KQISF0G7Qlpaoogjlzwuvb+vWhe12jBvz61/CrX0HNmnFXaMCWpJS0u4C9xaZNYe3sm2+G\n",
        "zz4Lxw45JATtc84JnW9JSgVFRfDccyFYz58fjtWvH/YJ+NWvYL/94q1ve7EG7E2bNm3dVEFKR+vW\n",
        "rePzzz/f5ZbY0t4obsDeIj8fHnkE/vxn+PTTcKx1axg0KIyV7GLPG6lMFRYWsnjxYo488si4S1HC\n",
        "bd4M48bB8OFh9A2gTh24+urwGlanzrbP3bhxI1WrVo2n0O3EErA/++wzbr75Zj777DOmT59e7PPm\n",
        "zp3LXXfdxaGHHsrHH39MnTp1+POf/0y1atXKsFplkr25xlavXk3jxo1Zs2bN1mPZ2dksXbqUxo0b\n",
        "l2XZSjN5eXkMHTqURo0asXr1ar766itGjBixw3W0q4BdnPMKCmDs2BC0Dzww/Jm1UaPQ/bn00vBn\n",
        "Vum7FOca+y4nn3wyr7zyyg7HHnnkEfr161dW5SrFbdgADz4II0ZsawwccAD85jfh9Wr7Ges1a9Yw\n",
        "atQobr/9dpYvX16sr7831/NuReWoqKgoGjduXHTJJZdEWVlZUceOHYt97tSpU6Pq1atHH3300dZj\n",
        "ffv2jbp06RIVFhaWRbnKMHt7jf3pT3+K+vTpEw0ePHjr23333VeWJSsNffrpp1FOTk708MMPbz12\n",
        "zz33RAcccED05Zdfbj0GRNu/hBf3vC3y86Poscei6PDDoyhMNEZRrVpRNGRIFH39dRn9cEppJb3G\n",
        "tjd37tyobdu2O7w+3nDDDVF+fn5Zl60UtHp1FA0bFkUNGmx7fWrRIopGj46ijRt3/vzZs2dHQ4cO\n",
        "japVqxZlZ2cX63vszfVcHOUasLcoKCgoUcDesGFD1KBBg6hfv347HH/vvfeirKysaPTo0WVRpjLI\n",
        "3l5j69ati4477riooKCgLMtUBujRo0d04IEH7nCssLAwysnJ2eH6/N+AXdzz/ldhYRRNmRJFJ564\n",
        "7T+yqlWjaODAKFq6tJR+KKWFPb3GoiiKunfvHr3//vtlWZ7SwNdfR9F110VRzZrbXo+OOSaKxo+P\n",
        "os2bd39+u3btih2w9+Z6Lo5YAnYURSUK2E888USUlZUVPfjggzs9t//++0fHHntsKVenTLO319j/\n",
        "+3//L6pfv37Uv3//6IEHHohWrlxZRpUqnX3xxRdRVlZWdMEFF+z0XN++faPKlStvvba2D9glOe/7\n",
        "vPpqFHXvvu0/tgoVouhXv4qi117bqx9LaWBvrrE333wzqlKlStSrV69o5MiR0ZIlS8q4WqWapUuj\n",
        "6Je/jKJq1ba9/px8chRNnx5FRUXF/zonn3xysQJ2ab1mfp+U2Ghm7ty5ALu8UeyQQw5h0aJFrF27\n",
        "trzLUhrZ22vs5ZdfBmDs2LFcfPHFHHjggYwaNapsilXamjdvHrDr67Bly5YUFBSQm5tbauf9r/bt\n",
        "YfLkcBNR//5hvvGBB+CEE8LOaOPHh5uNlHn25hqbMmUK9evXZ9KkSQwePJiDDz6YSy+9lPz8/DKt\n",
        "WckWRTBrFvTqBc2awcKFYea6e3fIzYXZs6Fr17CZVmkrrdfM75MSAXvLFsN169bd6bl69eoRRRFL\n",
        "ly4t77KURvb2GpsyZQpff/01S5YsYfDgwRQWFvKLX/yC++67r8xqVvrZ3XUI7PI63NPzvsvhh4el\n",
        "/d55By6/HGrVgnnzwvrZBx0Et94K//lPsb+c0sDeXGNDhgwhLy+PFStWMGrUKBo0aMCYMWO48MIL\n",
        "y6xeJdeGDTB6dNhptlMnmDQpbF9+zDHw9tvhl/y2bcu2htJ+zdyVlAjYGzZsAKDyLtaR2rLMnx1s\n",
        "7Y3SusaaNWvG8OHDmTdvHrVq1eK6665j06ZNpVus0taeXodl9Rp54IFhWazPP4e//S2sn/2vf8Hv\n",
        "fhdWHhk4ED74oMRfVimoNK6xOnXqMHDgQBYvXszRRx/NuHHjWLBgQekXq0T6/HO47rrwunLppeEX\n",
        "+AYNYOhQyMuDO++EVq3Kp5byyJV7HLA7dOhAdnZ2sd4eeOCBvSpyy28YBQUFOz235Vj16tX36nso\n",
        "vZTk+hwzZkypX2PHHHMMQ4YMYdWqVfzzn/8snR9KaW9Pr8Oyfo2sXh1+/nN47z2YNg1OPTXsnnb3\n",
        "3WF3yAsvDJs/FBbu8bdQwpXmNVanTh1Gjx4NwGuvvVZKFSqJoiiMe/TpA02ahA1iVq6E444Ly4Xm\n",
        "5cGNN4agXZ7KI1fu8R5eY8eO3fobwO40bNhwT78NADk5OQCsXLmS5s2b7/DcihUryMrKolmzZnv1\n",
        "PZReSnp9vvfee0DpXmNdunQBwqL3UnFs/1r3v1asWAGw0/W5N+eVVHY2nH56eFu8GP7yl7B5zQcf\n",
        "hLnJAw+Eyy6Diy+Gb0tSmijta6x169bUrl3b18c0tW5duGfjvvu27bhYoQL87Gdhc5i2bctmtrq4\n",
        "yuM1c48D9oEHHrhX37gk2rdvzx133MGSJUs44YQTdnjuww8/5JhjjmHf7VcbV8Yr6fVZFtfYpk2b\n",
        "qFChAgcddFCJzlPmatOmDdnZ2SxZsmSn5z788EMqVqxI+/btS+28vXH44XDvvWEL9gcfhBUr4OOP\n",
        "4frrw598e/aEK66Azp1DMFdqK+1rLIoiCgoKaNGiRWmWqZi98Qbcfz88/jh88024OXq//cIv3gMH\n",
        "htGyJCiP18xEvuzl5+fz5Zdfbv24W7du1KtXjxkzZuzweR9++CGff/65N0por5XkGvvf6/O7PPfc\n",
        "c/Tq1YvatWuXdrlKU/Xq1aNbt27MnDlzh+NFRUXMnDmTHj16UKtWrVI7rzTstx9ccw189BG8+CKc\n",
        "dVY4/swzYZTk4IPDLmzF3FhNCVWSa2zLDWTfZ/bs2dSqVYuuXbuWSb0qP6tXh3Gx1q3h2GPhnntC\n",
        "uG7bFq68Mty3cfPN8Yfr7a/LcnnN3KtF/vbQmjVroqysrKh9+/a7fP60006LKlasGL223eKr48aN\n",
        "i6pXr77D+pnnnXeem3uo1BT3Gvvf6/OOO+6IGjZsGF1//fXRxm+3mJo+fXrUrl27aPny5eX7Qyjl\n",
        "ffTRR1HNmjWjRx99dOux++67L6pdu3a09NudX4YNG7bTRjPFOa+8fPFFFN10UxQ1brxtTdvKlaOo\n",
        "b98omj27ZOvaKjmKe21mZWVFI0aMiKIoinJzc6OGDRtGffv2jZYtWxZFURQtXbo0OuGEE3b4P16p\n",
        "pagorJt/4YVRtM8+2/6d164dRVdfHUXvvBNPXccee2yUlZW1Uy783+syisr+NXOPR0T21MSJE3n8\n",
        "8ccBWLBgAcOGDaNjx447/Fm+cePG7LfffvzgBz/YeqxPnz5Ur16dX//61xxxxBF8+eWX1KlTh1mz\n",
        "ZlGxYrn/GEpDxb3G/vf6bNeuHQcccAAjR47k2WefpU2bNhx77LHMnDlz693IUnG1aNGC3Nxcbrzx\n",
        "RhYuXEgURSxbtoz58+fTtGlTYNv8YEnPKy/77w9DhsC118L06aGjNW0aPPFEWEngiy/g/PPDm7fP\n",
        "pI7iXps1atTYeo22aNGCY489lqlTpzJr1ixOP/10GjduzOTJk6lfv36cP472wIoV4ebE0aPDTc9b\n",
        "dOgQVgY580yoWrX865o/fz5Tp05l0aJFZGVlMXDgQM444wx69OgB7HxdQtm/ZmZFURTt9VeRJJWr\n",
        "rG/vEEqVl/C8vPCf8vTp8Prr2463bw8XXABnnx3W25aULIWFYUOYMWPC6NeW/YEaNAgrCF18MThK\n",
        "vzMDtiSloFQL2FsUFoYd2h5+GJ5+Oiz3B1ClSrgxsn//MLtdqVKsZUoZLYpgwQJ47DF48snQud53\n",
        "3zBv3bVr6FZ37+6/0+9jwJakFJSqAXt7a9eGjtjDD4cO2ZYfpX59OPfc0Nk+6qh4l/OSMsmSJSFU\n",
        "P/54eLxF8+Zw1VXhl+Af/jC++lKJAVuSUlA6BOzt5eWF/9gffhg+/HDb8SOOCF3tM890XlsqC19+\n",
        "GbrUjz0WutZbNGgA55wTftk9/nh/0S0pA7YkpaB0C9hbbPnT9MMPh5siGzSA998Pzx19dJjV7t07\n",
        "LP8nac/85z8waVII1TNnQlFROF6jRvhl9rzzoGNHcA2JPWfAlqQUlK4Be3v5+TBjRggBkyfDmjXb\n",
        "nmvVKgTt3r3hsMPiq1FKFV9+GUL1s8+GUF23Lnz1VZij7tYtdKrPOAOqVYu70vRgwJakFJQJAXt7\n",
        "GzfCSy/BhAkhJKxeve25Qw/d1tk+4gj/lC1tsWRJCNTPPrtty3IIu6tecgkcd1z4d+N+aKXPgC1J\n",
        "KSjTAvb2tnS2J0yAiRNh1aptzx18MPTtG7Zob9vWP3Ers0RR2K584sQQqhcv3vZclSphhZ6f/jSs\n",
        "AFK3bnx1ZgIDtiSloEwO2NsrKAgrkEyYEAJFdjb8+9/hudq14bTTwp+/TzstbOsupZuNG+HVV2HK\n",
        "lBCst9+pvmbNMPbx05+G5fX23Te+OjONAVuSUpABe2ebN8O8eWHpv6lTd1xmLDsb2rQJYbtbNzjy\n",
        "SEdJlJqiCD74AF58EV54Iawrv2ED1KkT/pqTkwO9eoVQffLJULly3BVnJgO2JKUgA/buffRRCNpT\n",
        "p8Lf/x663Vs0agQ/+xn86EfQqRPUqxdfndLu/Oc/YSzqhRfC27/+tePzRx4J/frBSSeFazo7O546\n",
        "tY0BW5JSkAG7ZL75Bl5+OYTtadNg3bqwi2RhYXj+qKOgS5cwu33SSf4pXfHavBlef31boP7HP7Yt\n",
        "pQfhF8JTTgljH6ecErrWShYDtiSlIAP2nisqgrfegunTQ1fw1Vdh06Ztz1eqFMZJunSBDh1CR7Bq\n",
        "1djKVQbYsCEE6ldfhblzw/U4Y8a25ytWhPbtQ6Du2jWsCW+XOtkM2JKUggzYpWfDBsjNDYHm5Zdh\n",
        "4cIQwqtUCe+zssJyZieeGN7atw/zrtKeWr48XHOvvhreFi7ccYSpTRtYuTKE6VNPDb/o1agRW7na\n",
        "AwZsSUpBBuyy89//hhvH/n979xeaVf3HAfyzqdO5mrW5tTX3IOhcsoiWDMWMhOoiguoiCqKLYDdd\n",
        "dXaHag0AAAhTSURBVBF0E1FCdBF0EWEESQR5V1BBEQhWFylWk2b90BiawVytrbVs/ml/XM/v4suz\n",
        "P25qrrM/T75e8OU8zznPefxOQd7nu8/5nG+/TQ+4+f77dGPZVC0tk4F727b0GHc3TTKbfD7ixIm0\n",
        "Ml0I1F1d0z9TUpIenjT1Ii6XW5z5kg0BG6AICdgL5/Tp1J2kEI6+/nqypKSlJfUarqpKq9xtbamk\n",
        "pK1NXey1amAglSAdO5Yu1A4cmGwdWVBeHrF1awrSO3aknu1r1izKdJknAjZAERKwF8/ISFrdPnAg\n",
        "dXN4772Ivr6Zn2toSG3SbrklrU7edlvE+vVqZ/8r8vmIn36KOHIkorMzbY8ciejpScerq1OZR0S6\n",
        "KbGwOr1jR6qh1j7vv03ABihCAvbSkc+nUNXRkbo9dHREHD6cOpe0taX3BRUVKWwXAnfhtZrupW1k\n",
        "JK1IF0J0Z2dapR4amvnZ1atTV5rW1rQyvXVrxMaNSoiuNQI2QBESsJe2v/9OfbiPHo346quI//0v\n",
        "1XL39s7++YaGVMudy6XHvTc1pbFunRXvhZLPR/zyS/p3u3jU1qbfWFysri6tRre2pu3tt6d6/GXL\n",
        "Fn7+LC0CNkARErCL08DAZNgubI8eTT25W1vTyuhUq1alwFYI3Js2pdHYmEK5MoOrMzaWLnK6u1N5\n",
        "x9QQffx46o8+m50703mFEN3amlap6+oWdPoUEQEboAgJ2P8d4+MRJ0+mgPfdd2lbGLPVdt95Z+pI\n",
        "UVKSAl4ulwJ3Ljf5ur4+HbvpplSycC24cCGF4FOnUsnOqVPTX/f0RPz66+QDW1atihgenv4da9em\n",
        "C5jm5smLmU2b0kVOefnC/0wULwEboAgJ2NeGoaHU4m1q6B4bS+UKP/88/el+BcuXp7BZUFGRgnZt\n",
        "7cztdddFVFbOPioqFqc8ZWwsrSSfO5c6uAwOppsFBwbStjAufr9mTfq7upzCRUljY1qFrqmZDNFN\n",
        "TWrhyY6ADVCEBGwuXEg1w6dOpZKHwjh9OvVZ7u9PK+Cjo7Off/31EWfOXPr7S0rSZyor0w2Zvb3p\n",
        "KZdlZWl78SgrS4H1jz/Sqvz4eLoAKLyeuq+uLs2x8Mj6QqA+f376A1dWrJj+/nLa2tLfRWNjGuvW\n",
        "zdzefHP6TphvAjZAERKw+Sfy+bQK3teXAnchdP/2W1oBHhq69Jhaj7x1a+r/fSV33JFaGF7JXXdF\n",
        "fPnl7MeWLUur5xUVqeSltDSVblRXT47Z3ldVqUln6RCwAYqQgM18Gx9PK9xDQxFnz6ZHyo+NpRXx\n",
        "sbGZY3Q0lacMD6eQXBilpdPfL1uW6plXrJgM0qtXT75esUJLO4qfgA1QhARsgKVLd00AAMiQgA0A\n",
        "ABkSsAEAIEMCNgAAZEjABgCADAnYAACQIQEbAAAyJGADAECGBGwAAMiQgA0AABkSsAEAIEMCNgAA\n",
        "ZEjABgCADAnYAACQIQEbAAAyJGADAECGBGwAAMiQgA0AABkSsAEAIEMCNgAAZEjABgCADAnYAACQ\n",
        "IQEbAAAyJGADAECGBGwAAMiQgA0AABkSsAEAIEMCNgAAZEjABgCADAnYAACQIQEbAAAyJGADAECG\n",
        "BGwAAMiQgA2whJw7dy66uroWexoA/AvLF3sCAMXs4MGD8cYbb8TmzZvjxx9/jKqqqnj55ZejvLz8\n",
        "iuf++eefkcvl4syZMxP7SktL4+TJk/M5ZQDmmYANMEeffvppPProo9HZ2RlNTU0REfH444/Hgw8+\n",
        "GPv27YvS0sv/knD37t1x//33Ry6Xm9jX1NQ07T0Axackn8/nF3sSAMVmeHg41q9fH/fdd1/s3bt3\n",
        "Yv8PP/wQLS0tsWfPnmhvb7/k+efPn4+77747Dh06FMuXX/1aR0lJSURE+C8cYOlRgw0wBx999FH0\n",
        "9/fHPffcM23/5s2bo76+Pt58883Lnr9nz57o7u6O9vb2eOedd2JwcHA+pwvAAhKwAebg4MGDERHR\n",
        "3Nw841hzc3N0dnbG2bNnL3n+/v37IyJi79690d7eHo2NjbF79+75mSwAC0rABpiD7u7uiIhYu3bt\n",
        "jGM1NTWRz+cve7Pixx9/HH19fXH8+PF49tlnY3x8PJ5++ul466235m3OACwMARtgDv7666+IiCgr\n",
        "K5txbOXKlRERl13BLtiwYUO88sorcejQobjhhhviueeei5GRkWwnC8CCErABImLnzp1RWlr6j8bb\n",
        "b789sXI9NjY247sK+yoqKv7xn9/a2hrPP/98DA4OxokTJ7L5oQBYFNr0AUSqhS6sSl9JXV1dHDt2\n",
        "LCIifv/999i4ceO04wMDA1FSUhIbNmy4qjnce++9EZE6lFxJPp+PXbt2TXQTmc2LL74Yu3btuqo5\n",
        "APDvadMHMAcffPBBPPLII/Huu+/GE088Me1YLpeL2traOHz48FV9Z0dHR2zfvj36+/vjxhtvzHK6\n",
        "ACwgJSIAc/DAAw9ETU1NfPbZZ9P2d3V1RU9PTzz55JMT+0ZHR6O3t/eK3/nJJ5/Eww8/LFwDFDkB\n",
        "G2AOVq5cGa+//nq8//7702qmX3rppdiyZUs89dRTE/seeuihyOVy8c0330RExGuvvRb19fXxwgsv\n",
        "TNzQuG/fvti/f/8V+2cDsPSpwQaYo8ceeywqKirimWeeiVtvvTV6e3ujqqoqvvjii2lPZ8zlclFd\n",
        "XR2VlZUREbF9+/ZoaGiIV199NT788MPYtm1bbNmyJT7//POJDiQAFC812AAAkCElIgAAkCEBGwAA\n",
        "MiRgAwBAhgRsAADIkIANAAAZErABACBDAjYAAGRIwAYAgAwJ2AAAkCEBGwAAMiRgAwBAhgRsAADI\n",
        "kIANAAAZErABACBDAjYAAGRIwAYAgAwJ2AAAkKH/A6R6XYrtYDtmAAAAAElFTkSuQmCC\n",
        "' width=364 height=246/>"
       ],
       "metadata": {},
       "output_type": "display_data",
       "text": [
        "<matplotlib.figure.Figure at 0x113b125d0>"
       ]
      },
      {
       "metadata": {},
       "output_type": "pyout",
       "prompt_number": 19,
       "text": [
        "<sympy.plotting.plot.Plot at 0x113b12a50>"
       ]
      }
     ],
     "prompt_number": 19
    },
    {
     "cell_type": "markdown",
     "metadata": {},
     "source": [
      "Vemos que el rango correcto es efectivamente $[-0.25, 2]$"
     ]
    },
    {
     "cell_type": "heading",
     "level": 2,
     "metadata": {},
     "source": [
      "Subdivision of intervals"
     ]
    },
    {
     "cell_type": "markdown",
     "metadata": {},
     "source": [
      "Let's subdivide the interval into pieces and calculate the range on each piece:"
     ]
    },
    {
     "cell_type": "code",
     "collapsed": false,
     "input": [
      "N = 100"
     ],
     "language": "python",
     "metadata": {},
     "outputs": [],
     "prompt_number": 42
    },
    {
     "cell_type": "code",
     "collapsed": false,
     "input": [
      "division_points = np.linspace(x.lo, x.hi, N+1)\n",
      "division_points"
     ],
     "language": "python",
     "metadata": {},
     "outputs": [
      {
       "metadata": {},
       "output_type": "pyout",
       "prompt_number": 43,
       "text": [
        "array([mpf('-1.0'), mpf('-0.97999999999999998'),\n",
        "       mpf('-0.95999999999999996'), mpf('-0.93999999999999995'),\n",
        "       mpf('-0.92000000000000004'), mpf('-0.90000000000000002'),\n",
        "       mpf('-0.88'), mpf('-0.85999999999999999'),\n",
        "       mpf('-0.83999999999999997'), mpf('-0.82000000000000006'),\n",
        "       mpf('-0.80000000000000004'), mpf('-0.78000000000000003'),\n",
        "       mpf('-0.76000000000000001'), mpf('-0.73999999999999999'),\n",
        "       mpf('-0.71999999999999997'), mpf('-0.69999999999999996'),\n",
        "       mpf('-0.67999999999999994'), mpf('-0.65999999999999992'),\n",
        "       mpf('-0.64000000000000001'), mpf('-0.62'),\n",
        "       mpf('-0.59999999999999998'), mpf('-0.58000000000000007'),\n",
        "       mpf('-0.56000000000000005'), mpf('-0.54000000000000004'),\n",
        "       mpf('-0.52000000000000002'), mpf('-0.5'),\n",
        "       mpf('-0.47999999999999998'), mpf('-0.45999999999999996'),\n",
        "       mpf('-0.43999999999999995'), mpf('-0.42000000000000004'),\n",
        "       mpf('-0.40000000000000002'), mpf('-0.38'),\n",
        "       mpf('-0.35999999999999999'), mpf('-0.33999999999999997'),\n",
        "       mpf('-0.31999999999999995'), mpf('-0.29999999999999993'),\n",
        "       mpf('-0.28000000000000003'), mpf('-0.26000000000000001'),\n",
        "       mpf('-0.23999999999999999'), mpf('-0.21999999999999997'),\n",
        "       mpf('-0.19999999999999996'), mpf('-0.17999999999999994'),\n",
        "       mpf('-0.16000000000000003'), mpf('-0.14000000000000001'),\n",
        "       mpf('-0.12'), mpf('-0.099999999999999978'),\n",
        "       mpf('-0.07999999999999996'), mpf('-0.059999999999999942'),\n",
        "       mpf('-0.040000000000000036'), mpf('-0.020000000000000018'),\n",
        "       mpf('0.0'), mpf('0.020000000000000018'),\n",
        "       mpf('0.040000000000000036'), mpf('0.060000000000000053'),\n",
        "       mpf('0.080000000000000071'), mpf('0.10000000000000009'),\n",
        "       mpf('0.12000000000000011'), mpf('0.14000000000000012'),\n",
        "       mpf('0.15999999999999992'), mpf('0.17999999999999994'),\n",
        "       mpf('0.19999999999999996'), mpf('0.21999999999999997'),\n",
        "       mpf('0.23999999999999999'), mpf('0.26000000000000001'),\n",
        "       mpf('0.28000000000000003'), mpf('0.30000000000000004'),\n",
        "       mpf('0.32000000000000006'), mpf('0.34000000000000008'),\n",
        "       mpf('0.3600000000000001'), mpf('0.38000000000000012'),\n",
        "       mpf('0.40000000000000013'), mpf('0.41999999999999993'),\n",
        "       mpf('0.43999999999999995'), mpf('0.45999999999999996'),\n",
        "       mpf('0.47999999999999998'), mpf('0.5'), mpf('0.52000000000000002'),\n",
        "       mpf('0.54000000000000004'), mpf('0.56000000000000005'),\n",
        "       mpf('0.58000000000000007'), mpf('0.60000000000000009'),\n",
        "       mpf('0.62000000000000011'), mpf('0.64000000000000012'),\n",
        "       mpf('0.66000000000000014'), mpf('0.67999999999999994'),\n",
        "       mpf('0.69999999999999996'), mpf('0.71999999999999997'),\n",
        "       mpf('0.73999999999999999'), mpf('0.76000000000000001'),\n",
        "       mpf('0.78000000000000003'), mpf('0.80000000000000004'),\n",
        "       mpf('0.82000000000000006'), mpf('0.84000000000000008'),\n",
        "       mpf('0.8600000000000001'), mpf('0.88000000000000012'),\n",
        "       mpf('0.90000000000000013'), mpf('0.91999999999999993'),\n",
        "       mpf('0.93999999999999995'), mpf('0.95999999999999996'),\n",
        "       mpf('0.97999999999999998'), mpf('1.0')], dtype=object)"
       ]
      }
     ],
     "prompt_number": 43
    },
    {
     "cell_type": "code",
     "collapsed": false,
     "input": [
      "subdivided = [Intervalo(a, b) for (a,b) in zip(division_points[:-1], division_points[1:])]\n",
      "subdivided"
     ],
     "language": "python",
     "metadata": {},
     "outputs": [
      {
       "metadata": {},
       "output_type": "pyout",
       "prompt_number": 44,
       "text": [
        "[Intervalo [mpf('-1.0'),mpf('-0.97999999999999998')],\n",
        " Intervalo [mpf('-0.97999999999999998'),mpf('-0.95999999999999996')],\n",
        " Intervalo [mpf('-0.95999999999999996'),mpf('-0.93999999999999995')],\n",
        " Intervalo [mpf('-0.93999999999999995'),mpf('-0.92000000000000004')],\n",
        " Intervalo [mpf('-0.92000000000000004'),mpf('-0.90000000000000002')],\n",
        " Intervalo [mpf('-0.90000000000000002'),mpf('-0.88')],\n",
        " Intervalo [mpf('-0.88'),mpf('-0.85999999999999999')],\n",
        " Intervalo [mpf('-0.85999999999999999'),mpf('-0.83999999999999997')],\n",
        " Intervalo [mpf('-0.83999999999999997'),mpf('-0.82000000000000006')],\n",
        " Intervalo [mpf('-0.82000000000000006'),mpf('-0.80000000000000004')],\n",
        " Intervalo [mpf('-0.80000000000000004'),mpf('-0.78000000000000003')],\n",
        " Intervalo [mpf('-0.78000000000000003'),mpf('-0.76000000000000001')],\n",
        " Intervalo [mpf('-0.76000000000000001'),mpf('-0.73999999999999999')],\n",
        " Intervalo [mpf('-0.73999999999999999'),mpf('-0.71999999999999997')],\n",
        " Intervalo [mpf('-0.71999999999999997'),mpf('-0.69999999999999996')],\n",
        " Intervalo [mpf('-0.69999999999999996'),mpf('-0.67999999999999994')],\n",
        " Intervalo [mpf('-0.67999999999999994'),mpf('-0.65999999999999992')],\n",
        " Intervalo [mpf('-0.65999999999999992'),mpf('-0.64000000000000001')],\n",
        " Intervalo [mpf('-0.64000000000000001'),mpf('-0.62')],\n",
        " Intervalo [mpf('-0.62'),mpf('-0.59999999999999998')],\n",
        " Intervalo [mpf('-0.59999999999999998'),mpf('-0.58000000000000007')],\n",
        " Intervalo [mpf('-0.58000000000000007'),mpf('-0.56000000000000005')],\n",
        " Intervalo [mpf('-0.56000000000000005'),mpf('-0.54000000000000004')],\n",
        " Intervalo [mpf('-0.54000000000000004'),mpf('-0.52000000000000002')],\n",
        " Intervalo [mpf('-0.52000000000000002'),mpf('-0.5')],\n",
        " Intervalo [mpf('-0.5'),mpf('-0.47999999999999998')],\n",
        " Intervalo [mpf('-0.47999999999999998'),mpf('-0.45999999999999996')],\n",
        " Intervalo [mpf('-0.45999999999999996'),mpf('-0.43999999999999995')],\n",
        " Intervalo [mpf('-0.43999999999999995'),mpf('-0.42000000000000004')],\n",
        " Intervalo [mpf('-0.42000000000000004'),mpf('-0.40000000000000002')],\n",
        " Intervalo [mpf('-0.40000000000000002'),mpf('-0.38')],\n",
        " Intervalo [mpf('-0.38'),mpf('-0.35999999999999999')],\n",
        " Intervalo [mpf('-0.35999999999999999'),mpf('-0.33999999999999997')],\n",
        " Intervalo [mpf('-0.33999999999999997'),mpf('-0.31999999999999995')],\n",
        " Intervalo [mpf('-0.31999999999999995'),mpf('-0.29999999999999993')],\n",
        " Intervalo [mpf('-0.29999999999999993'),mpf('-0.28000000000000003')],\n",
        " Intervalo [mpf('-0.28000000000000003'),mpf('-0.26000000000000001')],\n",
        " Intervalo [mpf('-0.26000000000000001'),mpf('-0.23999999999999999')],\n",
        " Intervalo [mpf('-0.23999999999999999'),mpf('-0.21999999999999997')],\n",
        " Intervalo [mpf('-0.21999999999999997'),mpf('-0.19999999999999996')],\n",
        " Intervalo [mpf('-0.19999999999999996'),mpf('-0.17999999999999994')],\n",
        " Intervalo [mpf('-0.17999999999999994'),mpf('-0.16000000000000003')],\n",
        " Intervalo [mpf('-0.16000000000000003'),mpf('-0.14000000000000001')],\n",
        " Intervalo [mpf('-0.14000000000000001'),mpf('-0.12')],\n",
        " Intervalo [mpf('-0.12'),mpf('-0.099999999999999978')],\n",
        " Intervalo [mpf('-0.099999999999999978'),mpf('-0.07999999999999996')],\n",
        " Intervalo [mpf('-0.07999999999999996'),mpf('-0.059999999999999942')],\n",
        " Intervalo [mpf('-0.059999999999999942'),mpf('-0.040000000000000036')],\n",
        " Intervalo [mpf('-0.040000000000000036'),mpf('-0.020000000000000018')],\n",
        " Intervalo [mpf('-0.020000000000000018'),mpf('0.0')],\n",
        " Intervalo [mpf('0.0'),mpf('0.020000000000000018')],\n",
        " Intervalo [mpf('0.020000000000000018'),mpf('0.040000000000000036')],\n",
        " Intervalo [mpf('0.040000000000000036'),mpf('0.060000000000000053')],\n",
        " Intervalo [mpf('0.060000000000000053'),mpf('0.080000000000000071')],\n",
        " Intervalo [mpf('0.080000000000000071'),mpf('0.10000000000000009')],\n",
        " Intervalo [mpf('0.10000000000000009'),mpf('0.12000000000000011')],\n",
        " Intervalo [mpf('0.12000000000000011'),mpf('0.14000000000000012')],\n",
        " Intervalo [mpf('0.14000000000000012'),mpf('0.15999999999999992')],\n",
        " Intervalo [mpf('0.15999999999999992'),mpf('0.17999999999999994')],\n",
        " Intervalo [mpf('0.17999999999999994'),mpf('0.19999999999999996')],\n",
        " Intervalo [mpf('0.19999999999999996'),mpf('0.21999999999999997')],\n",
        " Intervalo [mpf('0.21999999999999997'),mpf('0.23999999999999999')],\n",
        " Intervalo [mpf('0.23999999999999999'),mpf('0.26000000000000001')],\n",
        " Intervalo [mpf('0.26000000000000001'),mpf('0.28000000000000003')],\n",
        " Intervalo [mpf('0.28000000000000003'),mpf('0.30000000000000004')],\n",
        " Intervalo [mpf('0.30000000000000004'),mpf('0.32000000000000006')],\n",
        " Intervalo [mpf('0.32000000000000006'),mpf('0.34000000000000008')],\n",
        " Intervalo [mpf('0.34000000000000008'),mpf('0.3600000000000001')],\n",
        " Intervalo [mpf('0.3600000000000001'),mpf('0.38000000000000012')],\n",
        " Intervalo [mpf('0.38000000000000012'),mpf('0.40000000000000013')],\n",
        " Intervalo [mpf('0.40000000000000013'),mpf('0.41999999999999993')],\n",
        " Intervalo [mpf('0.41999999999999993'),mpf('0.43999999999999995')],\n",
        " Intervalo [mpf('0.43999999999999995'),mpf('0.45999999999999996')],\n",
        " Intervalo [mpf('0.45999999999999996'),mpf('0.47999999999999998')],\n",
        " Intervalo [mpf('0.47999999999999998'),mpf('0.5')],\n",
        " Intervalo [mpf('0.5'),mpf('0.52000000000000002')],\n",
        " Intervalo [mpf('0.52000000000000002'),mpf('0.54000000000000004')],\n",
        " Intervalo [mpf('0.54000000000000004'),mpf('0.56000000000000005')],\n",
        " Intervalo [mpf('0.56000000000000005'),mpf('0.58000000000000007')],\n",
        " Intervalo [mpf('0.58000000000000007'),mpf('0.60000000000000009')],\n",
        " Intervalo [mpf('0.60000000000000009'),mpf('0.62000000000000011')],\n",
        " Intervalo [mpf('0.62000000000000011'),mpf('0.64000000000000012')],\n",
        " Intervalo [mpf('0.64000000000000012'),mpf('0.66000000000000014')],\n",
        " Intervalo [mpf('0.66000000000000014'),mpf('0.67999999999999994')],\n",
        " Intervalo [mpf('0.67999999999999994'),mpf('0.69999999999999996')],\n",
        " Intervalo [mpf('0.69999999999999996'),mpf('0.71999999999999997')],\n",
        " Intervalo [mpf('0.71999999999999997'),mpf('0.73999999999999999')],\n",
        " Intervalo [mpf('0.73999999999999999'),mpf('0.76000000000000001')],\n",
        " Intervalo [mpf('0.76000000000000001'),mpf('0.78000000000000003')],\n",
        " Intervalo [mpf('0.78000000000000003'),mpf('0.80000000000000004')],\n",
        " Intervalo [mpf('0.80000000000000004'),mpf('0.82000000000000006')],\n",
        " Intervalo [mpf('0.82000000000000006'),mpf('0.84000000000000008')],\n",
        " Intervalo [mpf('0.84000000000000008'),mpf('0.8600000000000001')],\n",
        " Intervalo [mpf('0.8600000000000001'),mpf('0.88000000000000012')],\n",
        " Intervalo [mpf('0.88000000000000012'),mpf('0.90000000000000013')],\n",
        " Intervalo [mpf('0.90000000000000013'),mpf('0.91999999999999993')],\n",
        " Intervalo [mpf('0.91999999999999993'),mpf('0.93999999999999995')],\n",
        " Intervalo [mpf('0.93999999999999995'),mpf('0.95999999999999996')],\n",
        " Intervalo [mpf('0.95999999999999996'),mpf('0.97999999999999998')],\n",
        " Intervalo [mpf('0.97999999999999998'),mpf('1.0')]]"
       ]
      }
     ],
     "prompt_number": 44
    },
    {
     "cell_type": "markdown",
     "metadata": {},
     "source": [
      "Usemos la versi\u00f3n que da el rango m\u00e1s grande:"
     ]
    },
    {
     "cell_type": "code",
     "collapsed": false,
     "input": [
      "def f(x):\n",
      "    return x * (x-1)"
     ],
     "language": "python",
     "metadata": {},
     "outputs": [],
     "prompt_number": 45
    },
    {
     "cell_type": "code",
     "collapsed": false,
     "input": [
      "rangos = [f(i) for i in subdivided]"
     ],
     "language": "python",
     "metadata": {},
     "outputs": [],
     "prompt_number": 46
    },
    {
     "cell_type": "code",
     "collapsed": false,
     "input": [
      "rango_total = rangos[0]"
     ],
     "language": "python",
     "metadata": {},
     "outputs": [],
     "prompt_number": 47
    },
    {
     "cell_type": "code",
     "collapsed": false,
     "input": [
      "for i in rangos[1:]:\n",
      "    rango_total = rango_total.hull(i)"
     ],
     "language": "python",
     "metadata": {},
     "outputs": [],
     "prompt_number": 48
    },
    {
     "cell_type": "code",
     "collapsed": false,
     "input": [
      "rango_total"
     ],
     "language": "python",
     "metadata": {},
     "outputs": [
      {
       "html": [
        "[-0.26, 2.0]"
       ],
       "latex": [
        "$[-0.26, 2.0]$"
       ],
       "metadata": {},
       "output_type": "pyout",
       "prompt_number": 49,
       "text": [
        "Intervalo [mpf('-0.26000000000000001'),mpf('2.0')]"
       ]
      }
     ],
     "prompt_number": 49
    },
    {
     "cell_type": "code",
     "collapsed": false,
     "input": [],
     "language": "python",
     "metadata": {},
     "outputs": []
    }
   ],
   "metadata": {}
  }
 ]
}