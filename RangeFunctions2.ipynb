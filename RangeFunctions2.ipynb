{
 "metadata": {
  "name": ""
 },
 "nbformat": 3,
 "nbformat_minor": 0,
 "worksheets": [
  {
   "cells": [
    {
     "cell_type": "code",
     "collapsed": false,
     "input": [
      "from intervalo import *"
     ],
     "language": "python",
     "metadata": {},
     "outputs": [],
     "prompt_number": 1
    },
    {
     "cell_type": "code",
     "collapsed": false,
     "input": [
      "%whos"
     ],
     "language": "python",
     "metadata": {},
     "outputs": [
      {
       "output_type": "stream",
       "stream": "stdout",
       "text": [
        "Variable           Type         Data/Info\n",
        "-----------------------------------------\n",
        "Intervalo          type         <class 'intervalo.Intervalo'>\n",
        "cos                function     <function cos at 0x10d68b230>\n",
        "exp                function     <function exp at 0x10d68b0c8>\n",
        "log                function     <function log at 0x10d68b140>\n",
        "make_mpf           function     <function make_mpf at 0x10d6502a8>\n",
        "mp                 MPContext    Mpmath settings:\\n  mp.pr<...>alse     [default: False]\n",
        "mpf                type         <class 'sympy.mpmath.ctx_mp_python.mpf'>\n",
        "np                 module       <module 'numpy' from '/us<...>ages/numpy/__init__.pyc'>\n",
        "range_interval_f   function     <function range_interval_f at 0x10d68b398>\n",
        "sin                function     <function sin at 0x10d68b1b8>\n",
        "split_interval     function     <function split_interval at 0x10d68b320>\n",
        "tan                function     <function tan at 0x10d68b2a8>\n"
       ]
      }
     ],
     "prompt_number": 2
    },
    {
     "cell_type": "code",
     "collapsed": false,
     "input": [
      "x = Intervalo(-1,1)\n",
      "x_subdivided = split_interval( x, 30 )\n",
      "x_subdivided[0]"
     ],
     "language": "python",
     "metadata": {},
     "outputs": [
      {
       "html": [
        "[-1.0, -0.933333333333333]"
       ],
       "latex": [
        "$[-1.0, -0.933333333333333]$"
       ],
       "metadata": {},
       "output_type": "pyout",
       "prompt_number": 3,
       "text": [
        "Intervalo [mpf('-1.0'),mpf('-0.93333333333333335')]"
       ]
      }
     ],
     "prompt_number": 3
    },
    {
     "cell_type": "code",
     "collapsed": false,
     "input": [
      "def f(x):\n",
      "    return x * (x-1)"
     ],
     "language": "python",
     "metadata": {},
     "outputs": [],
     "prompt_number": 4
    },
    {
     "cell_type": "code",
     "collapsed": false,
     "input": [
      "def g(x):\n",
      "    return x**2 - x"
     ],
     "language": "python",
     "metadata": {},
     "outputs": [],
     "prompt_number": 5
    },
    {
     "cell_type": "code",
     "collapsed": false,
     "input": [
      "def h(x):\n",
      "    return (x-1./2)**2 -1./4"
     ],
     "language": "python",
     "metadata": {},
     "outputs": [],
     "prompt_number": 6
    },
    {
     "cell_type": "code",
     "collapsed": false,
     "input": [
      "range_f_subdiv = range_interval_f( f, x_subdivided )\n",
      "range_g_subdiv = range_interval_f( g, x_subdivided )\n",
      "range_h_subdiv = range_interval_f( h, x_subdivided )\n",
      "print \"Range_f : \", range_f_subdiv\n",
      "print \"Range_g : \", range_g_subdiv\n",
      "print \"Range_h : \", range_h_subdiv"
     ],
     "language": "python",
     "metadata": {},
     "outputs": [
      {
       "output_type": "stream",
       "stream": "stdout",
       "text": [
        "Range_f :  [-0.284444444444444,2.0]\n",
        "Range_g :  [-0.315555555555556,2.0]\n",
        "Range_h :  [-0.25,2.0]\n"
       ]
      }
     ],
     "prompt_number": 7
    },
    {
     "cell_type": "code",
     "collapsed": false,
     "input": [
      "# Esto es un test de robustez: x es un intervalo, que range_interval_f convierte en lista\n",
      "# de manera interna\n",
      "range_f_x = range_interval_f( f, x )\n",
      "range_g_x = range_interval_f( g, x )\n",
      "range_h_x = range_interval_f( h, x )\n",
      "\n",
      "print \"Range_f : \", range_f_x, f(x)\n",
      "print \"Range_g : \", range_g_x, g(x)\n",
      "print \"Range_h : \", range_h_x, h(x)"
     ],
     "language": "python",
     "metadata": {},
     "outputs": [
      {
       "output_type": "stream",
       "stream": "stdout",
       "text": [
        "Range_f :  [-2.0,2.0] [-2.0,2.0]\n",
        "Range_g :  [-1.0,2.0] [-1.0,2.0]\n",
        "Range_h :  [-0.25,2.0] [-0.25,2.0]\n"
       ]
      }
     ],
     "prompt_number": 8
    },
    {
     "cell_type": "code",
     "collapsed": false,
     "input": [
      "def func_identity(x):\n",
      "    return x\n",
      "\n",
      "print range_interval_f( func_identity, x)\n",
      "print range_interval_f( func_identity, x_subdivided )"
     ],
     "language": "python",
     "metadata": {},
     "outputs": [
      {
       "output_type": "stream",
       "stream": "stdout",
       "text": [
        "[-1.0,1.0]\n",
        "[-1.0,1.0]\n"
       ]
      }
     ],
     "prompt_number": 9
    },
    {
     "cell_type": "code",
     "collapsed": false,
     "input": [
      "%matplotlib inline"
     ],
     "language": "python",
     "metadata": {},
     "outputs": [],
     "prompt_number": 10
    },
    {
     "cell_type": "code",
     "collapsed": false,
     "input": [
      "import matplotlib.pyplot as plt\n",
      "import numpy as np"
     ],
     "language": "python",
     "metadata": {},
     "outputs": [],
     "prompt_number": 11
    },
    {
     "cell_type": "code",
     "collapsed": false,
     "input": [
      "xx = np.linspace( float(x.lo), float(x.hi), 500 )\n",
      "yy = f(xx)\n",
      "plt.plot( xx, yy )\n",
      "num_sub = len(x_subdivided)\n",
      "\n",
      "# make the shaded region from the subintervals\n",
      "for ii in range( num_sub ):\n",
      "    xlow, xhig = float((x_subdivided[ii]).lo), \\\n",
      "        float((x_subdivided[ii]).hi)\n",
      "    \n",
      "    xx = np.linspace( xlow, xhig, 4 )\n",
      "    xx[1] = xx[0]; xx[2] = xx[3]\n",
      "    yy = f(xx)\n",
      "    yy[0] = yy[3] = 0\n",
      "    \n",
      "    plt.fill( xx, yy, alpha=0.3)\n"
     ],
     "language": "python",
     "metadata": {},
     "outputs": [
      {
       "metadata": {},
       "output_type": "display_data",
       "png": "[encoded data removed]",
       "text": [
        "<matplotlib.figure.Figure at 0x10e059650>"
       ]
      }
     ],
     "prompt_number": 12
    },
    {
     "cell_type": "code",
     "collapsed": false,
     "input": [
      "def plot_range_interval_f( fun, subdivided_interval ):\n",
      "    if not isinstance( subdivided_interval, list ):\n",
      "        subdivided_interval = [ subdivided_interval ]\n",
      "\n",
      "    x = range_interval_f( fidentity, subdivided_interval )\n",
      "    xlo, xhi = float(x.lo), float(x.hi)\n",
      "    xx = np.linspace( xlo, xhi, 500 )\n",
      "    yy = fun(xx)\n",
      "\n",
      "    "
     ],
     "language": "python",
     "metadata": {},
     "outputs": []
    },
    {
     "cell_type": "code",
     "collapsed": false,
     "input": [],
     "language": "python",
     "metadata": {},
     "outputs": []
    }
   ],
   "metadata": {}
  }
 ]
}