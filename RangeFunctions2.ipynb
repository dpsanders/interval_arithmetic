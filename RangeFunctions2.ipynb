{
 "metadata": {
  "name": ""
 },
 "nbformat": 3,
 "nbformat_minor": 0,
 "worksheets": [
  {
   "cells": [
    {
     "cell_type": "code",
     "collapsed": false,
     "input": [
      "from intervalo import *"
     ],
     "language": "python",
     "metadata": {},
     "outputs": [],
     "prompt_number": 1
    },
    {
     "cell_type": "code",
     "collapsed": false,
     "input": [
      "%whos"
     ],
     "language": "python",
     "metadata": {},
     "outputs": [
      {
       "output_type": "stream",
       "stream": "stdout",
       "text": [
        "Variable           Type         Data/Info\n",
        "-----------------------------------------\n",
        "Intervalo          type         <class 'intervalo.Intervalo'>\n",
        "exp                function     <function exp at 0x1097c2e60>\n",
        "log                function     <function log at 0x1097c2ed8>\n",
        "make_mpf           function     <function make_mpf at 0x1097881b8>\n",
        "mp                 MPContext    Mpmath settings:\\n  mp.pr<...>alse     [default: False]\n",
        "mpf                type         <class 'sympy.mpmath.ctx_mp_python.mpf'>\n",
        "np                 module       <module 'numpy' from '/us<...>ages/numpy/__init__.pyc'>\n",
        "range_interval_f   function     <function range_interval_f at 0x1097c3050>\n",
        "split_interval     function     <function split_interval at 0x1097c2f50>\n"
       ]
      }
     ],
     "prompt_number": 2
    },
    {
     "cell_type": "code",
     "collapsed": false,
     "input": [
      "x = Intervalo(-1,1)\n",
      "x_subdivided = split_interval( x, 100 )\n",
      "print len( x_subdivided )\n",
      "x_subdivided[0]"
     ],
     "language": "python",
     "metadata": {},
     "outputs": [
      {
       "output_type": "stream",
       "stream": "stdout",
       "text": [
        "100\n"
       ]
      },
      {
       "html": [
        "[-1.0, -0.98]"
       ],
       "latex": [
        "$[-1.0, -0.98]$"
       ],
       "metadata": {},
       "output_type": "pyout",
       "prompt_number": 3,
       "text": [
        "Intervalo [mpf('-1.0'),mpf('-0.97999999999999998')]"
       ]
      }
     ],
     "prompt_number": 3
    },
    {
     "cell_type": "code",
     "collapsed": false,
     "input": [
      "def f(x):\n",
      "    return x * (x-1)"
     ],
     "language": "python",
     "metadata": {},
     "outputs": [],
     "prompt_number": 4
    },
    {
     "cell_type": "code",
     "collapsed": false,
     "input": [
      "def g(x):\n",
      "    return x**2 - x"
     ],
     "language": "python",
     "metadata": {},
     "outputs": [],
     "prompt_number": 5
    },
    {
     "cell_type": "code",
     "collapsed": false,
     "input": [
      "def h(x):\n",
      "    return (x-1./2)**2 -1./4"
     ],
     "language": "python",
     "metadata": {},
     "outputs": [],
     "prompt_number": 6
    },
    {
     "cell_type": "code",
     "collapsed": false,
     "input": [
      "range_f_subdiv = range_interval_f( f, x_subdivided )\n",
      "range_g_subdiv = range_interval_f( g, x_subdivided )\n",
      "range_h_subdiv = range_interval_f( h, x_subdivided )\n",
      "print \"Range_f : \", range_f_subdiv\n",
      "print \"Range_g : \", range_g_subdiv\n",
      "print \"Range_h : \", range_h_subdiv"
     ],
     "language": "python",
     "metadata": {},
     "outputs": [
      {
       "output_type": "stream",
       "stream": "stdout",
       "text": [
        "Range_f :  [-0.26,2.0]\n",
        "Range_g :  [-0.27,2.0]\n",
        "Range_h :  [-0.25,2.0]\n"
       ]
      }
     ],
     "prompt_number": 7
    },
    {
     "cell_type": "code",
     "collapsed": false,
     "input": [
      "# Esto es un test de robustez: x es un intervalo, que range_interval_f convierte en lista\n",
      "# de manera interna\n",
      "range_f_x = range_interval_f( f, x )\n",
      "range_g_x = range_interval_f( g, x )\n",
      "range_h_x = range_interval_f( h, x )\n",
      "\n",
      "print \"Range_f : \", range_f_x, f(x)\n",
      "print \"Range_g : \", range_g_x, g(x)\n",
      "print \"Range_h : \", range_h_x, h(x)"
     ],
     "language": "python",
     "metadata": {},
     "outputs": [
      {
       "output_type": "stream",
       "stream": "stdout",
       "text": [
        "Range_f :  [-2.0,2.0] [-2.0,2.0]\n",
        "Range_g :  [-1.0,2.0] [-1.0,2.0]\n",
        "Range_h :  [-0.25,2.0] [-0.25,2.0]\n"
       ]
      }
     ],
     "prompt_number": 8
    },
    {
     "cell_type": "code",
     "collapsed": false,
     "input": [],
     "language": "python",
     "metadata": {},
     "outputs": []
    }
   ],
   "metadata": {}
  }
 ]
}